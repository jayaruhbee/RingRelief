{
  "cells": [
    {
      "cell_type": "markdown",
      "source": [
        "# ClinicalBERT\n",
        "\n",
        "[ClinicalBERT](https://github.com/EmilyAlsentzer/clinicalBERT) is pre-trained on clinical notes and electronic health records (EHRs). It focuses on capturing language patterns and clinical terminologies commonly found in patient records.\n",
        "\n",
        "> BioBERT significantly outperforms other state of the art BERTs on the following three representative biomedical text mining tasks:\n",
        "* biomedical named entity recognition (0.62% F1 score improvement)\n",
        "* biomedical relation extraction (2.80% F1 score improvement) and\n",
        "* biomedical question answering (12.24% MRR improvement)."
      ],
      "metadata": {
        "id": "PghKgAX875uf"
      },
      "id": "PghKgAX875uf"
    },
    {
      "cell_type": "code",
      "source": [
        "!pip install transformers"
      ],
      "metadata": {
        "colab": {
          "base_uri": "https://localhost:8080/"
        },
        "id": "hWFz2TYd75YX",
        "outputId": "83a6ecf1-e1ec-413b-8737-5c3817735398"
      },
      "id": "hWFz2TYd75YX",
      "execution_count": null,
      "outputs": [
        {
          "output_type": "stream",
          "name": "stdout",
          "text": [
            "Collecting transformers\n",
            "  Downloading transformers-4.34.1-py3-none-any.whl (7.7 MB)\n",
            "\u001b[2K     \u001b[90m━━━━━━━━━━━━━━━━━━━━━━━━━━━━━━━━━━━━━━━━\u001b[0m \u001b[32m7.7/7.7 MB\u001b[0m \u001b[31m32.3 MB/s\u001b[0m eta \u001b[36m0:00:00\u001b[0m\n",
            "\u001b[?25hRequirement already satisfied: filelock in /usr/local/lib/python3.10/dist-packages (from transformers) (3.12.4)\n",
            "Collecting huggingface-hub<1.0,>=0.16.4 (from transformers)\n",
            "  Downloading huggingface_hub-0.18.0-py3-none-any.whl (301 kB)\n",
            "\u001b[2K     \u001b[90m━━━━━━━━━━━━━━━━━━━━━━━━━━━━━━━━━━━━━━━━\u001b[0m \u001b[32m302.0/302.0 kB\u001b[0m \u001b[31m21.3 MB/s\u001b[0m eta \u001b[36m0:00:00\u001b[0m\n",
            "\u001b[?25hRequirement already satisfied: numpy>=1.17 in /usr/local/lib/python3.10/dist-packages (from transformers) (1.23.5)\n",
            "Requirement already satisfied: packaging>=20.0 in /usr/local/lib/python3.10/dist-packages (from transformers) (23.2)\n",
            "Requirement already satisfied: pyyaml>=5.1 in /usr/local/lib/python3.10/dist-packages (from transformers) (6.0.1)\n",
            "Requirement already satisfied: regex!=2019.12.17 in /usr/local/lib/python3.10/dist-packages (from transformers) (2023.6.3)\n",
            "Requirement already satisfied: requests in /usr/local/lib/python3.10/dist-packages (from transformers) (2.31.0)\n",
            "Collecting tokenizers<0.15,>=0.14 (from transformers)\n",
            "  Downloading tokenizers-0.14.1-cp310-cp310-manylinux_2_17_x86_64.manylinux2014_x86_64.whl (3.8 MB)\n",
            "\u001b[2K     \u001b[90m━━━━━━━━━━━━━━━━━━━━━━━━━━━━━━━━━━━━━━━━\u001b[0m \u001b[32m3.8/3.8 MB\u001b[0m \u001b[31m27.9 MB/s\u001b[0m eta \u001b[36m0:00:00\u001b[0m\n",
            "\u001b[?25hCollecting safetensors>=0.3.1 (from transformers)\n",
            "  Downloading safetensors-0.4.0-cp310-cp310-manylinux_2_17_x86_64.manylinux2014_x86_64.whl (1.3 MB)\n",
            "\u001b[2K     \u001b[90m━━━━━━━━━━━━━━━━━━━━━━━━━━━━━━━━━━━━━━━━\u001b[0m \u001b[32m1.3/1.3 MB\u001b[0m \u001b[31m42.6 MB/s\u001b[0m eta \u001b[36m0:00:00\u001b[0m\n",
            "\u001b[?25hRequirement already satisfied: tqdm>=4.27 in /usr/local/lib/python3.10/dist-packages (from transformers) (4.66.1)\n",
            "Requirement already satisfied: fsspec>=2023.5.0 in /usr/local/lib/python3.10/dist-packages (from huggingface-hub<1.0,>=0.16.4->transformers) (2023.6.0)\n",
            "Requirement already satisfied: typing-extensions>=3.7.4.3 in /usr/local/lib/python3.10/dist-packages (from huggingface-hub<1.0,>=0.16.4->transformers) (4.5.0)\n",
            "Collecting huggingface-hub<1.0,>=0.16.4 (from transformers)\n",
            "  Downloading huggingface_hub-0.17.3-py3-none-any.whl (295 kB)\n",
            "\u001b[2K     \u001b[90m━━━━━━━━━━━━━━━━━━━━━━━━━━━━━━━━━━━━━━━━\u001b[0m \u001b[32m295.0/295.0 kB\u001b[0m \u001b[31m22.8 MB/s\u001b[0m eta \u001b[36m0:00:00\u001b[0m\n",
            "\u001b[?25hRequirement already satisfied: charset-normalizer<4,>=2 in /usr/local/lib/python3.10/dist-packages (from requests->transformers) (3.3.0)\n",
            "Requirement already satisfied: idna<4,>=2.5 in /usr/local/lib/python3.10/dist-packages (from requests->transformers) (3.4)\n",
            "Requirement already satisfied: urllib3<3,>=1.21.1 in /usr/local/lib/python3.10/dist-packages (from requests->transformers) (2.0.6)\n",
            "Requirement already satisfied: certifi>=2017.4.17 in /usr/local/lib/python3.10/dist-packages (from requests->transformers) (2023.7.22)\n",
            "Installing collected packages: safetensors, huggingface-hub, tokenizers, transformers\n",
            "Successfully installed huggingface-hub-0.17.3 safetensors-0.4.0 tokenizers-0.14.1 transformers-4.34.1\n"
          ]
        }
      ]
    },
    {
      "cell_type": "code",
      "source": [
        "!pip install torch"
      ],
      "metadata": {
        "colab": {
          "base_uri": "https://localhost:8080/"
        },
        "id": "NsMmX0LuEmN1",
        "outputId": "6ee5d1af-9e2b-449a-bbe3-8bae3cba2432"
      },
      "id": "NsMmX0LuEmN1",
      "execution_count": null,
      "outputs": [
        {
          "output_type": "stream",
          "name": "stdout",
          "text": [
            "Requirement already satisfied: torch in /usr/local/lib/python3.10/dist-packages (2.0.1+cu118)\n",
            "Requirement already satisfied: filelock in /usr/local/lib/python3.10/dist-packages (from torch) (3.12.4)\n",
            "Requirement already satisfied: typing-extensions in /usr/local/lib/python3.10/dist-packages (from torch) (4.5.0)\n",
            "Requirement already satisfied: sympy in /usr/local/lib/python3.10/dist-packages (from torch) (1.12)\n",
            "Requirement already satisfied: networkx in /usr/local/lib/python3.10/dist-packages (from torch) (3.1)\n",
            "Requirement already satisfied: jinja2 in /usr/local/lib/python3.10/dist-packages (from torch) (3.1.2)\n",
            "Requirement already satisfied: triton==2.0.0 in /usr/local/lib/python3.10/dist-packages (from torch) (2.0.0)\n",
            "Requirement already satisfied: cmake in /usr/local/lib/python3.10/dist-packages (from triton==2.0.0->torch) (3.27.7)\n",
            "Requirement already satisfied: lit in /usr/local/lib/python3.10/dist-packages (from triton==2.0.0->torch) (17.0.2)\n",
            "Requirement already satisfied: MarkupSafe>=2.0 in /usr/local/lib/python3.10/dist-packages (from jinja2->torch) (2.1.3)\n",
            "Requirement already satisfied: mpmath>=0.19 in /usr/local/lib/python3.10/dist-packages (from sympy->torch) (1.3.0)\n"
          ]
        }
      ]
    },
    {
      "cell_type": "code",
      "source": [
        "!pip install transformers --upgrade"
      ],
      "metadata": {
        "colab": {
          "base_uri": "https://localhost:8080/"
        },
        "id": "MihKZ6eH0rra",
        "outputId": "ea8de9b2-bf0a-450e-a7d1-d3829f6e9726"
      },
      "id": "MihKZ6eH0rra",
      "execution_count": null,
      "outputs": [
        {
          "output_type": "stream",
          "name": "stdout",
          "text": [
            "Requirement already satisfied: transformers in /usr/local/lib/python3.10/dist-packages (4.34.1)\n",
            "Requirement already satisfied: filelock in /usr/local/lib/python3.10/dist-packages (from transformers) (3.12.4)\n",
            "Requirement already satisfied: huggingface-hub<1.0,>=0.16.4 in /usr/local/lib/python3.10/dist-packages (from transformers) (0.17.3)\n",
            "Requirement already satisfied: numpy>=1.17 in /usr/local/lib/python3.10/dist-packages (from transformers) (1.23.5)\n",
            "Requirement already satisfied: packaging>=20.0 in /usr/local/lib/python3.10/dist-packages (from transformers) (23.2)\n",
            "Requirement already satisfied: pyyaml>=5.1 in /usr/local/lib/python3.10/dist-packages (from transformers) (6.0.1)\n",
            "Requirement already satisfied: regex!=2019.12.17 in /usr/local/lib/python3.10/dist-packages (from transformers) (2023.6.3)\n",
            "Requirement already satisfied: requests in /usr/local/lib/python3.10/dist-packages (from transformers) (2.31.0)\n",
            "Requirement already satisfied: tokenizers<0.15,>=0.14 in /usr/local/lib/python3.10/dist-packages (from transformers) (0.14.1)\n",
            "Requirement already satisfied: safetensors>=0.3.1 in /usr/local/lib/python3.10/dist-packages (from transformers) (0.4.0)\n",
            "Requirement already satisfied: tqdm>=4.27 in /usr/local/lib/python3.10/dist-packages (from transformers) (4.66.1)\n",
            "Requirement already satisfied: fsspec in /usr/local/lib/python3.10/dist-packages (from huggingface-hub<1.0,>=0.16.4->transformers) (2023.6.0)\n",
            "Requirement already satisfied: typing-extensions>=3.7.4.3 in /usr/local/lib/python3.10/dist-packages (from huggingface-hub<1.0,>=0.16.4->transformers) (4.5.0)\n",
            "Requirement already satisfied: charset-normalizer<4,>=2 in /usr/local/lib/python3.10/dist-packages (from requests->transformers) (3.3.0)\n",
            "Requirement already satisfied: idna<4,>=2.5 in /usr/local/lib/python3.10/dist-packages (from requests->transformers) (3.4)\n",
            "Requirement already satisfied: urllib3<3,>=1.21.1 in /usr/local/lib/python3.10/dist-packages (from requests->transformers) (2.0.6)\n",
            "Requirement already satisfied: certifi>=2017.4.17 in /usr/local/lib/python3.10/dist-packages (from requests->transformers) (2023.7.22)\n"
          ]
        }
      ]
    },
    {
      "cell_type": "markdown",
      "source": [
        "# Fine-Tuning"
      ],
      "metadata": {
        "id": "PmfZFw_SeS6r"
      },
      "id": "PmfZFw_SeS6r"
    },
    {
      "cell_type": "markdown",
      "source": [
        "## Load in the data"
      ],
      "metadata": {
        "id": "UQnz-u0KebTY"
      },
      "id": "UQnz-u0KebTY"
    },
    {
      "cell_type": "code",
      "source": [
        "import pandas as pd\n",
        "\n",
        "df = pd.read_csv('/content/sentences_and_tags.csv')\n",
        "\n",
        "df.head()"
      ],
      "metadata": {
        "colab": {
          "base_uri": "https://localhost:8080/",
          "height": 206
        },
        "id": "7DnO889AefBI",
        "outputId": "976c22b5-1b94-4363-93e5-a55516ddab3c"
      },
      "id": "7DnO889AefBI",
      "execution_count": null,
      "outputs": [
        {
          "output_type": "execute_result",
          "data": {
            "text/plain": [
              "  Unnamed: 0                                          Sentences  Tag Name Tag\n",
              "0  sentece 0  I first noticed my tinnitus after attending a ...    1     Main\n",
              "1  sentece 1      I was not wearing ear protection at the time.    2     Note\n",
              "2  sentece 2  I've seen an audiologist who recommended heari...    1     Main\n",
              "3  sentece 3  I've been using them regularly, but the tinnit...    2     Note\n",
              "4  sentece 4  It's frustrating because it's affecting my sleep.    3  Emotion"
            ],
            "text/html": [
              "\n",
              "  <div id=\"df-c3c42d0f-00af-4985-bb97-22b9bdd3eda6\" class=\"colab-df-container\">\n",
              "    <div>\n",
              "<style scoped>\n",
              "    .dataframe tbody tr th:only-of-type {\n",
              "        vertical-align: middle;\n",
              "    }\n",
              "\n",
              "    .dataframe tbody tr th {\n",
              "        vertical-align: top;\n",
              "    }\n",
              "\n",
              "    .dataframe thead th {\n",
              "        text-align: right;\n",
              "    }\n",
              "</style>\n",
              "<table border=\"1\" class=\"dataframe\">\n",
              "  <thead>\n",
              "    <tr style=\"text-align: right;\">\n",
              "      <th></th>\n",
              "      <th>Unnamed: 0</th>\n",
              "      <th>Sentences</th>\n",
              "      <th>Tag</th>\n",
              "      <th>Name Tag</th>\n",
              "    </tr>\n",
              "  </thead>\n",
              "  <tbody>\n",
              "    <tr>\n",
              "      <th>0</th>\n",
              "      <td>sentece 0</td>\n",
              "      <td>I first noticed my tinnitus after attending a ...</td>\n",
              "      <td>1</td>\n",
              "      <td>Main</td>\n",
              "    </tr>\n",
              "    <tr>\n",
              "      <th>1</th>\n",
              "      <td>sentece 1</td>\n",
              "      <td>I was not wearing ear protection at the time.</td>\n",
              "      <td>2</td>\n",
              "      <td>Note</td>\n",
              "    </tr>\n",
              "    <tr>\n",
              "      <th>2</th>\n",
              "      <td>sentece 2</td>\n",
              "      <td>I've seen an audiologist who recommended heari...</td>\n",
              "      <td>1</td>\n",
              "      <td>Main</td>\n",
              "    </tr>\n",
              "    <tr>\n",
              "      <th>3</th>\n",
              "      <td>sentece 3</td>\n",
              "      <td>I've been using them regularly, but the tinnit...</td>\n",
              "      <td>2</td>\n",
              "      <td>Note</td>\n",
              "    </tr>\n",
              "    <tr>\n",
              "      <th>4</th>\n",
              "      <td>sentece 4</td>\n",
              "      <td>It's frustrating because it's affecting my sleep.</td>\n",
              "      <td>3</td>\n",
              "      <td>Emotion</td>\n",
              "    </tr>\n",
              "  </tbody>\n",
              "</table>\n",
              "</div>\n",
              "    <div class=\"colab-df-buttons\">\n",
              "\n",
              "  <div class=\"colab-df-container\">\n",
              "    <button class=\"colab-df-convert\" onclick=\"convertToInteractive('df-c3c42d0f-00af-4985-bb97-22b9bdd3eda6')\"\n",
              "            title=\"Convert this dataframe to an interactive table.\"\n",
              "            style=\"display:none;\">\n",
              "\n",
              "  <svg xmlns=\"http://www.w3.org/2000/svg\" height=\"24px\" viewBox=\"0 -960 960 960\">\n",
              "    <path d=\"M120-120v-720h720v720H120Zm60-500h600v-160H180v160Zm220 220h160v-160H400v160Zm0 220h160v-160H400v160ZM180-400h160v-160H180v160Zm440 0h160v-160H620v160ZM180-180h160v-160H180v160Zm440 0h160v-160H620v160Z\"/>\n",
              "  </svg>\n",
              "    </button>\n",
              "\n",
              "  <style>\n",
              "    .colab-df-container {\n",
              "      display:flex;\n",
              "      gap: 12px;\n",
              "    }\n",
              "\n",
              "    .colab-df-convert {\n",
              "      background-color: #E8F0FE;\n",
              "      border: none;\n",
              "      border-radius: 50%;\n",
              "      cursor: pointer;\n",
              "      display: none;\n",
              "      fill: #1967D2;\n",
              "      height: 32px;\n",
              "      padding: 0 0 0 0;\n",
              "      width: 32px;\n",
              "    }\n",
              "\n",
              "    .colab-df-convert:hover {\n",
              "      background-color: #E2EBFA;\n",
              "      box-shadow: 0px 1px 2px rgba(60, 64, 67, 0.3), 0px 1px 3px 1px rgba(60, 64, 67, 0.15);\n",
              "      fill: #174EA6;\n",
              "    }\n",
              "\n",
              "    .colab-df-buttons div {\n",
              "      margin-bottom: 4px;\n",
              "    }\n",
              "\n",
              "    [theme=dark] .colab-df-convert {\n",
              "      background-color: #3B4455;\n",
              "      fill: #D2E3FC;\n",
              "    }\n",
              "\n",
              "    [theme=dark] .colab-df-convert:hover {\n",
              "      background-color: #434B5C;\n",
              "      box-shadow: 0px 1px 3px 1px rgba(0, 0, 0, 0.15);\n",
              "      filter: drop-shadow(0px 1px 2px rgba(0, 0, 0, 0.3));\n",
              "      fill: #FFFFFF;\n",
              "    }\n",
              "  </style>\n",
              "\n",
              "    <script>\n",
              "      const buttonEl =\n",
              "        document.querySelector('#df-c3c42d0f-00af-4985-bb97-22b9bdd3eda6 button.colab-df-convert');\n",
              "      buttonEl.style.display =\n",
              "        google.colab.kernel.accessAllowed ? 'block' : 'none';\n",
              "\n",
              "      async function convertToInteractive(key) {\n",
              "        const element = document.querySelector('#df-c3c42d0f-00af-4985-bb97-22b9bdd3eda6');\n",
              "        const dataTable =\n",
              "          await google.colab.kernel.invokeFunction('convertToInteractive',\n",
              "                                                    [key], {});\n",
              "        if (!dataTable) return;\n",
              "\n",
              "        const docLinkHtml = 'Like what you see? Visit the ' +\n",
              "          '<a target=\"_blank\" href=https://colab.research.google.com/notebooks/data_table.ipynb>data table notebook</a>'\n",
              "          + ' to learn more about interactive tables.';\n",
              "        element.innerHTML = '';\n",
              "        dataTable['output_type'] = 'display_data';\n",
              "        await google.colab.output.renderOutput(dataTable, element);\n",
              "        const docLink = document.createElement('div');\n",
              "        docLink.innerHTML = docLinkHtml;\n",
              "        element.appendChild(docLink);\n",
              "      }\n",
              "    </script>\n",
              "  </div>\n",
              "\n",
              "\n",
              "<div id=\"df-98027b55-7665-40a7-82b5-deb589864c2b\">\n",
              "  <button class=\"colab-df-quickchart\" onclick=\"quickchart('df-98027b55-7665-40a7-82b5-deb589864c2b')\"\n",
              "            title=\"Suggest charts.\"\n",
              "            style=\"display:none;\">\n",
              "\n",
              "<svg xmlns=\"http://www.w3.org/2000/svg\" height=\"24px\"viewBox=\"0 0 24 24\"\n",
              "     width=\"24px\">\n",
              "    <g>\n",
              "        <path d=\"M19 3H5c-1.1 0-2 .9-2 2v14c0 1.1.9 2 2 2h14c1.1 0 2-.9 2-2V5c0-1.1-.9-2-2-2zM9 17H7v-7h2v7zm4 0h-2V7h2v10zm4 0h-2v-4h2v4z\"/>\n",
              "    </g>\n",
              "</svg>\n",
              "  </button>\n",
              "\n",
              "<style>\n",
              "  .colab-df-quickchart {\n",
              "      --bg-color: #E8F0FE;\n",
              "      --fill-color: #1967D2;\n",
              "      --hover-bg-color: #E2EBFA;\n",
              "      --hover-fill-color: #174EA6;\n",
              "      --disabled-fill-color: #AAA;\n",
              "      --disabled-bg-color: #DDD;\n",
              "  }\n",
              "\n",
              "  [theme=dark] .colab-df-quickchart {\n",
              "      --bg-color: #3B4455;\n",
              "      --fill-color: #D2E3FC;\n",
              "      --hover-bg-color: #434B5C;\n",
              "      --hover-fill-color: #FFFFFF;\n",
              "      --disabled-bg-color: #3B4455;\n",
              "      --disabled-fill-color: #666;\n",
              "  }\n",
              "\n",
              "  .colab-df-quickchart {\n",
              "    background-color: var(--bg-color);\n",
              "    border: none;\n",
              "    border-radius: 50%;\n",
              "    cursor: pointer;\n",
              "    display: none;\n",
              "    fill: var(--fill-color);\n",
              "    height: 32px;\n",
              "    padding: 0;\n",
              "    width: 32px;\n",
              "  }\n",
              "\n",
              "  .colab-df-quickchart:hover {\n",
              "    background-color: var(--hover-bg-color);\n",
              "    box-shadow: 0 1px 2px rgba(60, 64, 67, 0.3), 0 1px 3px 1px rgba(60, 64, 67, 0.15);\n",
              "    fill: var(--button-hover-fill-color);\n",
              "  }\n",
              "\n",
              "  .colab-df-quickchart-complete:disabled,\n",
              "  .colab-df-quickchart-complete:disabled:hover {\n",
              "    background-color: var(--disabled-bg-color);\n",
              "    fill: var(--disabled-fill-color);\n",
              "    box-shadow: none;\n",
              "  }\n",
              "\n",
              "  .colab-df-spinner {\n",
              "    border: 2px solid var(--fill-color);\n",
              "    border-color: transparent;\n",
              "    border-bottom-color: var(--fill-color);\n",
              "    animation:\n",
              "      spin 1s steps(1) infinite;\n",
              "  }\n",
              "\n",
              "  @keyframes spin {\n",
              "    0% {\n",
              "      border-color: transparent;\n",
              "      border-bottom-color: var(--fill-color);\n",
              "      border-left-color: var(--fill-color);\n",
              "    }\n",
              "    20% {\n",
              "      border-color: transparent;\n",
              "      border-left-color: var(--fill-color);\n",
              "      border-top-color: var(--fill-color);\n",
              "    }\n",
              "    30% {\n",
              "      border-color: transparent;\n",
              "      border-left-color: var(--fill-color);\n",
              "      border-top-color: var(--fill-color);\n",
              "      border-right-color: var(--fill-color);\n",
              "    }\n",
              "    40% {\n",
              "      border-color: transparent;\n",
              "      border-right-color: var(--fill-color);\n",
              "      border-top-color: var(--fill-color);\n",
              "    }\n",
              "    60% {\n",
              "      border-color: transparent;\n",
              "      border-right-color: var(--fill-color);\n",
              "    }\n",
              "    80% {\n",
              "      border-color: transparent;\n",
              "      border-right-color: var(--fill-color);\n",
              "      border-bottom-color: var(--fill-color);\n",
              "    }\n",
              "    90% {\n",
              "      border-color: transparent;\n",
              "      border-bottom-color: var(--fill-color);\n",
              "    }\n",
              "  }\n",
              "</style>\n",
              "\n",
              "  <script>\n",
              "    async function quickchart(key) {\n",
              "      const quickchartButtonEl =\n",
              "        document.querySelector('#' + key + ' button');\n",
              "      quickchartButtonEl.disabled = true;  // To prevent multiple clicks.\n",
              "      quickchartButtonEl.classList.add('colab-df-spinner');\n",
              "      try {\n",
              "        const charts = await google.colab.kernel.invokeFunction(\n",
              "            'suggestCharts', [key], {});\n",
              "      } catch (error) {\n",
              "        console.error('Error during call to suggestCharts:', error);\n",
              "      }\n",
              "      quickchartButtonEl.classList.remove('colab-df-spinner');\n",
              "      quickchartButtonEl.classList.add('colab-df-quickchart-complete');\n",
              "    }\n",
              "    (() => {\n",
              "      let quickchartButtonEl =\n",
              "        document.querySelector('#df-98027b55-7665-40a7-82b5-deb589864c2b button');\n",
              "      quickchartButtonEl.style.display =\n",
              "        google.colab.kernel.accessAllowed ? 'block' : 'none';\n",
              "    })();\n",
              "  </script>\n",
              "</div>\n",
              "    </div>\n",
              "  </div>\n"
            ]
          },
          "metadata": {},
          "execution_count": 13
        }
      ]
    },
    {
      "cell_type": "code",
      "source": [
        "df['Name Tag'].value_counts().plot(kind='pie')"
      ],
      "metadata": {
        "colab": {
          "base_uri": "https://localhost:8080/",
          "height": 424
        },
        "id": "GWCh1kEdeqcD",
        "outputId": "6d3732a3-4fd4-446d-f678-5aa5a1ad3245"
      },
      "id": "GWCh1kEdeqcD",
      "execution_count": null,
      "outputs": [
        {
          "output_type": "execute_result",
          "data": {
            "text/plain": [
              "<Axes: ylabel='Name Tag'>"
            ]
          },
          "metadata": {},
          "execution_count": 6
        },
        {
          "output_type": "display_data",
          "data": {
            "text/plain": [
              "<Figure size 640x480 with 1 Axes>"
            ],
            "image/png": "[encoded data removed]"
          },
          "metadata": {}
        }
      ]
    },
    {
      "cell_type": "code",
      "source": [
        "import transformers\n",
        "import torch\n",
        "from transformers import AutoTokenizer\n",
        "from torch.nn import CrossEntropyLoss\n",
        "\n",
        "tokenizer = AutoTokenizer.from_pretrained(\"emilyalsentzer/Bio_ClinicalBERT\")"
      ],
      "metadata": {
        "colab": {
          "base_uri": "https://localhost:8080/",
          "height": 81,
          "referenced_widgets": [
            "cafe158e56964dd1ab8f53517242cf2f",
            "e22cc67c52d94a35aad89d55dfd6d842",
            "b4302d23c39441e4b091cf8d7e675964",
            "395464d8be124887bdf284a834721349",
            "4f0c41d359be474eba075f922f712e49",
            "6b515aa2fa4647ed919efa6aa5fb6b7a",
            "0a208b6eecdf447eb119104e7b00fcf4",
            "cbfd5f5aaca34cb2aa8d3c12742db77b",
            "c4ed6ce500a74f1aaa58554dc0d38613",
            "aa69e081adb643daaa518806d6932b79",
            "a68abfafa90f487d9b9bc43d6cfa8225",
            "09f2c8d4cb8a44279edc71f140e53366",
            "36534f4b8d254ddc80b005e7ae139e77",
            "5fa8a1d26d5c48a1bafc3bd4d954a420",
            "3857ca88a504400ea7b9c8cf26aa2d47",
            "fa9c7905017c4de09b92ca35ac76ff92",
            "b362020b1e4d4017a73a19471243fa11",
            "3bf0a994716246cda96afc13ffad4dc2",
            "37801a74b72e40d49b6936050754022b",
            "e87f398b288f4a9ebe9806cd71c04f8f",
            "5a5978c4d3cd43ffb4df5c7005adaf30",
            "80e816c25f8d47a5b329413213d78bd9"
          ]
        },
        "id": "eUySaRkpg1du",
        "outputId": "4f05ef25-90a3-4b10-9cc5-0a181c29683c"
      },
      "id": "eUySaRkpg1du",
      "execution_count": null,
      "outputs": [
        {
          "output_type": "display_data",
          "data": {
            "text/plain": [
              "Downloading (…)lve/main/config.json:   0%|          | 0.00/385 [00:00<?, ?B/s]"
            ],
            "application/vnd.jupyter.widget-view+json": {
              "version_major": 2,
              "version_minor": 0,
              "model_id": "cafe158e56964dd1ab8f53517242cf2f"
            }
          },
          "metadata": {}
        },
        {
          "output_type": "display_data",
          "data": {
            "text/plain": [
              "Downloading (…)solve/main/vocab.txt:   0%|          | 0.00/213k [00:00<?, ?B/s]"
            ],
            "application/vnd.jupyter.widget-view+json": {
              "version_major": 2,
              "version_minor": 0,
              "model_id": "09f2c8d4cb8a44279edc71f140e53366"
            }
          },
          "metadata": {}
        }
      ]
    },
    {
      "cell_type": "code",
      "source": [
        "from transformers import BertConfig, BertForSequenceClassification\n",
        "\n",
        "config = BertConfig.from_pretrained('bert-base-uncased', output_hidden_states=True, num_labels=4)\n",
        "model = BertForSequenceClassification.from_pretrained('bert-base-uncased', config=config)\n",
        "optimizer = torch.optim.AdamW(model.parameters(), lr=1e-5, weight_decay=1e-2)\n",
        "loss_fn = torch.nn.CrossEntropyLoss()"
      ],
      "metadata": {
        "colab": {
          "base_uri": "https://localhost:8080/"
        },
        "id": "1F02_6d60YJq",
        "outputId": "dea8b114-875d-4e2b-90c8-e560252bf196"
      },
      "id": "1F02_6d60YJq",
      "execution_count": null,
      "outputs": [
        {
          "output_type": "stream",
          "name": "stderr",
          "text": [
            "Some weights of BertForSequenceClassification were not initialized from the model checkpoint at bert-base-uncased and are newly initialized: ['classifier.weight', 'classifier.bias']\n",
            "You should probably TRAIN this model on a down-stream task to be able to use it for predictions and inference.\n"
          ]
        }
      ]
    },
    {
      "cell_type": "markdown",
      "source": [
        "## Method to Tune in Batches"
      ],
      "metadata": {
        "id": "H9KLUCRXoWX4"
      },
      "id": "H9KLUCRXoWX4"
    },
    {
      "cell_type": "code",
      "source": [
        "from torch.utils.data import Dataset, DataLoader\n",
        "\n",
        "import torch\n",
        "from torch.utils.data import Dataset, DataLoader\n",
        "\n",
        "# Custom dataset class\n",
        "class CustomDataset(Dataset):\n",
        "    def __init__(self, dataframe, tokenizer, max_length):\n",
        "        self.data = dataframe\n",
        "        self.tokenizer = tokenizer\n",
        "        self.max_length = max_length\n",
        "\n",
        "    def __len__(self):\n",
        "        return len(self.data)\n",
        "\n",
        "    def __getitem__(self, idx):\n",
        "        text = self.data.iloc[idx]['Sentences']\n",
        "        label = self.data.iloc[idx]['Tag']\n",
        "\n",
        "        encoding = self.tokenizer(\n",
        "            text,\n",
        "            truncation=True,\n",
        "            padding='max_length',\n",
        "            max_length=self.max_length,\n",
        "            return_tensors='pt',\n",
        "            return_token_type_ids=False,\n",
        "            return_attention_mask=True,\n",
        "        )\n",
        "\n",
        "        return {\n",
        "            'input_ids': encoding['input_ids'].squeeze(),\n",
        "            'attention_mask': encoding['attention_mask'].squeeze(),\n",
        "            'labels': torch.tensor(label, dtype=torch.long),\n",
        "        }\n",
        "\n",
        "# Define your dataset and dataloader\n",
        "dataset = CustomDataset(dataframe=df, tokenizer=tokenizer, max_length=128)\n",
        "data_loader = DataLoader(dataset, batch_size=8, shuffle=True)"
      ],
      "metadata": {
        "id": "ltW87_PJoa0Q"
      },
      "id": "ltW87_PJoa0Q",
      "execution_count": null,
      "outputs": []
    },
    {
      "cell_type": "code",
      "source": [
        "count = 0\n",
        "for batch in data_loader:\n",
        "  print(batch['labels'].view(-1, 1).shape)\n",
        "\n",
        "  count +=1\n",
        "  if count == 1:\n",
        "    break"
      ],
      "metadata": {
        "colab": {
          "base_uri": "https://localhost:8080/"
        },
        "id": "CLFLIQqDsBNH",
        "outputId": "82927317-cc0c-4327-c414-0fa3239b388c"
      },
      "id": "CLFLIQqDsBNH",
      "execution_count": null,
      "outputs": [
        {
          "output_type": "stream",
          "name": "stdout",
          "text": [
            "torch.Size([8, 1])\n"
          ]
        }
      ]
    },
    {
      "cell_type": "markdown",
      "source": [
        "### Gradient Clipping\n",
        "\n",
        "* **Gradients** are used to determine how much each parameter should be adjusted to minimize the loss\n",
        "\n",
        "* Updating params in the opposite direction of gradients happens through optimizers. In our case we are using Adam"
      ],
      "metadata": {
        "id": "WcAfeqKHziSf"
      },
      "id": "WcAfeqKHziSf"
    },
    {
      "cell_type": "code",
      "source": [
        "#Gradient Clipping: helps prevent exploding gradients\n",
        "clip_grad_norm_ = torch.nn.utils.clip_grad_norm_(model.parameters(), max_norm=1.0)"
      ],
      "metadata": {
        "id": "WUpELYmvyUWO"
      },
      "id": "WUpELYmvyUWO",
      "execution_count": null,
      "outputs": []
    },
    {
      "cell_type": "markdown",
      "source": [
        "Attempt to prevent overfitting 1:\n",
        "\n",
        "\n",
        "1.   Added L2 (weight decay) Regularization\n",
        ">* Penalty to loss based on magnitude of weights\n",
        "2. Reduced Batch Size\n",
        ">* Made Learning Rate Smaller\n",
        "4. Reduced epochs (20->16)\n",
        "5. Included Gradient Clipping\n",
        "\n"
      ],
      "metadata": {
        "id": "rzNBqwUb0mWv"
      },
      "id": "rzNBqwUb0mWv"
    },
    {
      "cell_type": "markdown",
      "source": [
        "### With NOTE tag"
      ],
      "metadata": {
        "id": "uMF2skMwFiYZ"
      },
      "id": "uMF2skMwFiYZ"
    },
    {
      "cell_type": "code",
      "source": [
        "from torch.utils.data import DataLoader\n",
        "\n",
        "batch_size = 8\n",
        "max_grad_norm = 1.0 # common default value\n",
        "# Create a DataLoader to handle mini-batches\n",
        "for epoch in range(16):\n",
        "    total_loss = 0.0\n",
        "    for batch in data_loader:\n",
        "        optimizer.zero_grad()\n",
        "\n",
        "        # Forward pass for the entire mini-batch\n",
        "        inputs = batch[\"input_ids\"]\n",
        "        attention_mask = batch[\"attention_mask\"]\n",
        "        outputs = model(inputs, attention_mask=attention_mask)\n",
        "\n",
        "        # Calculate the loss for the mini-batch\n",
        "        batch_loss = loss_fn(outputs.logits, batch[\"labels\"])\n",
        "\n",
        "        # Backward pass and optimization\n",
        "        batch_loss.backward()\n",
        "\n",
        "        torch.nn.utils.clip_grad_norm_(model.parameters(), max_norm=max_grad_norm)\n",
        "\n",
        "        optimizer.step()\n",
        "\n",
        "        total_loss += batch_loss.item()\n",
        "\n",
        "    average_loss = total_loss / len(data_loader)\n",
        "    print(f\"Epoch {epoch + 1}, Average loss: {average_loss}\")\n"
      ],
      "metadata": {
        "colab": {
          "base_uri": "https://localhost:8080/",
          "height": 596
        },
        "id": "JyZcVzarxtAQ",
        "outputId": "a70d93f1-51fe-499d-950f-f70344f1eccb"
      },
      "id": "JyZcVzarxtAQ",
      "execution_count": null,
      "outputs": [
        {
          "output_type": "stream",
          "name": "stdout",
          "text": [
            "Epoch 1, Average loss: 1.2646715994234439\n",
            "Epoch 2, Average loss: 1.006406580960309\n",
            "Epoch 3, Average loss: 0.7040162770836441\n",
            "Epoch 4, Average loss: 0.44277996928603564\n",
            "Epoch 5, Average loss: 0.24724831073372452\n",
            "Epoch 6, Average loss: 0.12125451966292328\n",
            "Epoch 7, Average loss: 0.05409891254923962\n",
            "Epoch 8, Average loss: 0.027909751912509953\n",
            "Epoch 9, Average loss: 0.017593607703154837\n",
            "Epoch 10, Average loss: 0.011897083320137527\n"
          ]
        },
        {
          "output_type": "error",
          "ename": "KeyboardInterrupt",
          "evalue": "ignored",
          "traceback": [
            "\u001b[0;31m---------------------------------------------------------------------------\u001b[0m",
            "\u001b[0;31mKeyboardInterrupt\u001b[0m                         Traceback (most recent call last)",
            "\u001b[0;32m<ipython-input-17-eb18bed0851a>\u001b[0m in \u001b[0;36m<cell line: 6>\u001b[0;34m()\u001b[0m\n\u001b[1;32m     18\u001b[0m \u001b[0;34m\u001b[0m\u001b[0m\n\u001b[1;32m     19\u001b[0m         \u001b[0;31m# Backward pass and optimization\u001b[0m\u001b[0;34m\u001b[0m\u001b[0;34m\u001b[0m\u001b[0m\n\u001b[0;32m---> 20\u001b[0;31m         \u001b[0mbatch_loss\u001b[0m\u001b[0;34m.\u001b[0m\u001b[0mbackward\u001b[0m\u001b[0;34m(\u001b[0m\u001b[0;34m)\u001b[0m\u001b[0;34m\u001b[0m\u001b[0;34m\u001b[0m\u001b[0m\n\u001b[0m\u001b[1;32m     21\u001b[0m \u001b[0;34m\u001b[0m\u001b[0m\n\u001b[1;32m     22\u001b[0m         \u001b[0mtorch\u001b[0m\u001b[0;34m.\u001b[0m\u001b[0mnn\u001b[0m\u001b[0;34m.\u001b[0m\u001b[0mutils\u001b[0m\u001b[0;34m.\u001b[0m\u001b[0mclip_grad_norm_\u001b[0m\u001b[0;34m(\u001b[0m\u001b[0mmodel\u001b[0m\u001b[0;34m.\u001b[0m\u001b[0mparameters\u001b[0m\u001b[0;34m(\u001b[0m\u001b[0;34m)\u001b[0m\u001b[0;34m,\u001b[0m \u001b[0mmax_norm\u001b[0m\u001b[0;34m=\u001b[0m\u001b[0mmax_grad_norm\u001b[0m\u001b[0;34m)\u001b[0m\u001b[0;34m\u001b[0m\u001b[0;34m\u001b[0m\u001b[0m\n",
            "\u001b[0;32m/usr/local/lib/python3.10/dist-packages/torch/_tensor.py\u001b[0m in \u001b[0;36mbackward\u001b[0;34m(self, gradient, retain_graph, create_graph, inputs)\u001b[0m\n\u001b[1;32m    485\u001b[0m                 \u001b[0minputs\u001b[0m\u001b[0;34m=\u001b[0m\u001b[0minputs\u001b[0m\u001b[0;34m,\u001b[0m\u001b[0;34m\u001b[0m\u001b[0;34m\u001b[0m\u001b[0m\n\u001b[1;32m    486\u001b[0m             )\n\u001b[0;32m--> 487\u001b[0;31m         torch.autograd.backward(\n\u001b[0m\u001b[1;32m    488\u001b[0m             \u001b[0mself\u001b[0m\u001b[0;34m,\u001b[0m \u001b[0mgradient\u001b[0m\u001b[0;34m,\u001b[0m \u001b[0mretain_graph\u001b[0m\u001b[0;34m,\u001b[0m \u001b[0mcreate_graph\u001b[0m\u001b[0;34m,\u001b[0m \u001b[0minputs\u001b[0m\u001b[0;34m=\u001b[0m\u001b[0minputs\u001b[0m\u001b[0;34m\u001b[0m\u001b[0;34m\u001b[0m\u001b[0m\n\u001b[1;32m    489\u001b[0m         )\n",
            "\u001b[0;32m/usr/local/lib/python3.10/dist-packages/torch/autograd/__init__.py\u001b[0m in \u001b[0;36mbackward\u001b[0;34m(tensors, grad_tensors, retain_graph, create_graph, grad_variables, inputs)\u001b[0m\n\u001b[1;32m    198\u001b[0m     \u001b[0;31m# some Python versions print out the first line of a multi-line function\u001b[0m\u001b[0;34m\u001b[0m\u001b[0;34m\u001b[0m\u001b[0m\n\u001b[1;32m    199\u001b[0m     \u001b[0;31m# calls in the traceback and some print out the last line\u001b[0m\u001b[0;34m\u001b[0m\u001b[0;34m\u001b[0m\u001b[0m\n\u001b[0;32m--> 200\u001b[0;31m     Variable._execution_engine.run_backward(  # Calls into the C++ engine to run the backward pass\n\u001b[0m\u001b[1;32m    201\u001b[0m         \u001b[0mtensors\u001b[0m\u001b[0;34m,\u001b[0m \u001b[0mgrad_tensors_\u001b[0m\u001b[0;34m,\u001b[0m \u001b[0mretain_graph\u001b[0m\u001b[0;34m,\u001b[0m \u001b[0mcreate_graph\u001b[0m\u001b[0;34m,\u001b[0m \u001b[0minputs\u001b[0m\u001b[0;34m,\u001b[0m\u001b[0;34m\u001b[0m\u001b[0;34m\u001b[0m\u001b[0m\n\u001b[1;32m    202\u001b[0m         allow_unreachable=True, accumulate_grad=True)  # Calls into the C++ engine to run the backward pass\n",
            "\u001b[0;31mKeyboardInterrupt\u001b[0m: "
          ]
        }
      ]
    },
    {
      "cell_type": "code",
      "source": [
        "model.save_pretrained('./MediMapBERT2')"
      ],
      "metadata": {
        "id": "BC-Khbf5DqHd"
      },
      "execution_count": null,
      "outputs": [],
      "id": "BC-Khbf5DqHd"
    },
    {
      "cell_type": "code",
      "source": [
        "# @title MediMapBERT\n",
        "# Define a function to get user input\n",
        "def get_label(doc):\n",
        "    tokens = tokenizer(doc, padding=True, truncation=True, return_tensors=\"pt\")\n",
        "    outputs = model(**tokens)\n",
        "    logits = outputs.logits\n",
        "\n",
        "    probabilities = torch.softmax(logits, dim=1)\n",
        "    predicted_labels = torch.argmax(probabilities, dim=1)\n",
        "    print(probabilities)\n",
        "\n",
        "    return df['Name Tag'].where(df['Tag'] == int(predicted_labels[0])).dropna().unique()\n",
        "\n",
        "# Collect user input\n",
        "Sentence = 'My tinnitus started when I was 12 years old' # @param {type:\"string\"}\n",
        "label = get_label(Sentence)\n",
        "\n",
        "# Display the collected information\n",
        "print(f\"[{label[0]}] {Sentence}.\")"
      ],
      "metadata": {
        "colab": {
          "base_uri": "https://localhost:8080/"
        },
        "cellView": "form",
        "outputId": "58f7ad6d-40aa-4dea-f4cb-7dee9a6914d8",
        "id": "hMytc87NAdMR"
      },
      "execution_count": null,
      "outputs": [
        {
          "output_type": "stream",
          "name": "stdout",
          "text": [
            "tensor([[0.0035, 0.8762, 0.1151, 0.0051]], grad_fn=<SoftmaxBackward0>)\n",
            "[Main] My tinnitus started when I was 12 years old.\n"
          ]
        }
      ],
      "id": "hMytc87NAdMR"
    },
    {
      "cell_type": "code",
      "source": [
        "# @title MediMapBERT\n",
        "# Define a function to get user input\n",
        "def get_label(doc):\n",
        "    tokens = tokenizer(doc, padding=True, truncation=True, return_tensors=\"pt\")\n",
        "    outputs = model(**tokens)\n",
        "    logits = outputs.logits\n",
        "\n",
        "    probabilities = torch.softmax(logits, dim=1)\n",
        "    predicted_labels = torch.argmax(probabilities, dim=1)\n",
        "    print(probabilities)\n",
        "\n",
        "    return df['Name Tag'].where(df['Tag'] == int(predicted_labels[0])).dropna().unique()\n",
        "\n",
        "# Collect user input\n",
        "Sentence = 'hello world' # @param {type:\"string\"}\n",
        "label = get_label(Sentence)\n",
        "\n",
        "# Display the collected information\n",
        "print(f\"[{label[0]}] {Sentence}.\")"
      ],
      "metadata": {
        "colab": {
          "base_uri": "https://localhost:8080/"
        },
        "outputId": "3362037c-3680-430d-8e1f-9c80f728fa94",
        "id": "NFQVIRwTDLbz"
      },
      "execution_count": null,
      "outputs": [
        {
          "output_type": "stream",
          "name": "stdout",
          "text": [
            "tensor([[0.1611, 0.0246, 0.7953, 0.0190]], grad_fn=<SoftmaxBackward0>)\n",
            "[Note] hello world.\n"
          ]
        }
      ],
      "id": "NFQVIRwTDLbz"
    },
    {
      "cell_type": "markdown",
      "source": [
        "## Overfitted on Note tag"
      ],
      "metadata": {
        "id": "nxq7qXKext-Q"
      },
      "id": "nxq7qXKext-Q"
    },
    {
      "cell_type": "code",
      "source": [
        "from torch.utils.data import DataLoader\n",
        "\n",
        "batch_size = 16\n",
        "\n",
        "# Create a DataLoader to handle mini-batches\n",
        "for epoch in range(20):\n",
        "    total_loss = 0.0\n",
        "    for batch in data_loader:\n",
        "        optimizer.zero_grad()\n",
        "\n",
        "        # Forward pass for the entire mini-batch\n",
        "        inputs = batch[\"input_ids\"]\n",
        "        attention_mask = batch[\"attention_mask\"]\n",
        "        outputs = model(inputs, attention_mask=attention_mask)\n",
        "\n",
        "        # Calculate the loss for the mini-batch\n",
        "        batch_loss = loss_fn(outputs.logits, batch[\"labels\"])\n",
        "\n",
        "        # Backward pass and optimization\n",
        "        batch_loss.backward()\n",
        "        optimizer.step()\n",
        "\n",
        "        total_loss += batch_loss.item()\n",
        "\n",
        "    average_loss = total_loss / len(data_loader)\n",
        "    print(f\"Epoch {epoch + 1}, Average loss: {average_loss}\")\n"
      ],
      "metadata": {
        "colab": {
          "base_uri": "https://localhost:8080/"
        },
        "id": "Q_eIq1-HmvVu",
        "outputId": "363a3b8b-08ab-45d4-e97a-0c9c300d163f"
      },
      "id": "Q_eIq1-HmvVu",
      "execution_count": null,
      "outputs": [
        {
          "output_type": "stream",
          "name": "stdout",
          "text": [
            "Epoch 1, Average loss: 1.2815276639802116\n",
            "Epoch 2, Average loss: 1.0743913395064217\n",
            "Epoch 3, Average loss: 0.8775515939508166\n",
            "Epoch 4, Average loss: 0.7097667157649994\n",
            "Epoch 5, Average loss: 0.5481359596763339\n",
            "Epoch 6, Average loss: 0.41892827089343754\n",
            "Epoch 7, Average loss: 0.31544075693402973\n",
            "Epoch 8, Average loss: 0.2232917467398303\n",
            "Epoch 9, Average loss: 0.16841202016387666\n",
            "Epoch 10, Average loss: 0.12105030460017067\n",
            "Epoch 11, Average loss: 0.0949884078332356\n",
            "Epoch 12, Average loss: 0.07673528497772557\n",
            "Epoch 13, Average loss: 0.06588890190635409\n",
            "Epoch 14, Average loss: 0.05707940139940807\n",
            "Epoch 15, Average loss: 0.05209269680614982\n",
            "Epoch 16, Average loss: 0.047185231266277175\n",
            "Epoch 17, Average loss: 0.04382049518504313\n",
            "Epoch 18, Average loss: 0.04031187295913696\n",
            "Epoch 19, Average loss: 0.04786184177334819\n",
            "Epoch 20, Average loss: 0.04478225151875189\n"
          ]
        }
      ]
    },
    {
      "cell_type": "code",
      "source": [
        "model.save_pretrained('./MediMapBERT')\n"
      ],
      "metadata": {
        "id": "t8UV5e2FNLgj"
      },
      "id": "t8UV5e2FNLgj",
      "execution_count": null,
      "outputs": []
    },
    {
      "cell_type": "code",
      "source": [
        "df['Sentences'][8]"
      ],
      "metadata": {
        "colab": {
          "base_uri": "https://localhost:8080/",
          "height": 35
        },
        "id": "js1TtGy6WBp5",
        "outputId": "33fa8b3c-302b-46fe-8f1d-3e716f1dc461"
      },
      "id": "js1TtGy6WBp5",
      "execution_count": null,
      "outputs": [
        {
          "output_type": "execute_result",
          "data": {
            "text/plain": [
              "'I saw an ENT specialist who prescribed a corticosteroid.'"
            ],
            "application/vnd.google.colaboratory.intrinsic+json": {
              "type": "string"
            }
          },
          "metadata": {},
          "execution_count": 47
        }
      ]
    },
    {
      "cell_type": "code",
      "source": [
        "# @title MediMapBERT\n",
        "# Define a function to get user input\n",
        "def get_label(doc):\n",
        "    tokens = tokenizer(doc, padding=True, truncation=True, return_tensors=\"pt\")\n",
        "    outputs = model(**tokens)\n",
        "    logits = outputs.logits\n",
        "\n",
        "    probabilities = torch.softmax(logits, dim=1)\n",
        "    predicted_labels = torch.argmax(probabilities, dim=1)\n",
        "    print(probabilities)\n",
        "\n",
        "    return df['Name Tag'].where(df['Tag'] == int(predicted_labels[0])).dropna().unique()\n",
        "\n",
        "# Collect user input\n",
        "Sentence = 'ooga booga' # @param {type:\"string\"}\n",
        "label = get_label(Sentence)\n",
        "\n",
        "# Display the collected information\n",
        "print(f\"[{label[0]}] {Sentence}.\")"
      ],
      "metadata": {
        "colab": {
          "base_uri": "https://localhost:8080/"
        },
        "cellView": "form",
        "id": "Tw_gEXBMQsW5",
        "outputId": "a22ad768-cdd4-47b8-9e39-990f9a102182"
      },
      "id": "Tw_gEXBMQsW5",
      "execution_count": null,
      "outputs": [
        {
          "output_type": "stream",
          "name": "stdout",
          "text": [
            "tensor([[0.1024, 0.1103, 0.7607, 0.0266]], grad_fn=<SoftmaxBackward0>)\n",
            "[Note] ooga booga.\n"
          ]
        }
      ]
    },
    {
      "cell_type": "code",
      "source": [
        "#new_document = \"The stress from breaking my nose leading to my tinnitus has been affecting my mental health.\"\n",
        "new_document = \"I am so frustrated.\"\n",
        "tokens = tokenizer(new_document, padding=True, truncation=True, return_tensors=\"pt\")\n",
        "\n",
        "#model = BertForSequenceClassification.from_pretrained('bert-base-uncased')\n",
        "outputs = model(**tokens)\n",
        "logits = outputs.logits\n",
        "\n",
        "probabilities = torch.softmax(logits, dim=1)\n",
        "predicted_labels = torch.argmax(probabilities, dim=1)\n",
        "\n",
        "\n",
        "# Print the generated labels\n",
        "print(df['Name Tag'].where(df['Tag'] == int(predicted_labels[0])).dropna().unique())"
      ],
      "metadata": {
        "colab": {
          "base_uri": "https://localhost:8080/"
        },
        "id": "FbHy2JRdPIpp",
        "outputId": "cba47755-0348-4466-9d73-29d01d5311a3"
      },
      "id": "FbHy2JRdPIpp",
      "execution_count": null,
      "outputs": [
        {
          "output_type": "stream",
          "name": "stdout",
          "text": [
            "['Note']\n"
          ]
        }
      ]
    },
    {
      "cell_type": "markdown",
      "source": [
        "## Method to Tune Training on Single Examples/ Online Learning"
      ],
      "metadata": {
        "id": "Hw5pkWyX1X_j"
      },
      "id": "Hw5pkWyX1X_j"
    },
    {
      "cell_type": "code",
      "source": [
        "def custom_tokenize(text):\n",
        "    # Tokenize the text using the specified tokenizer\n",
        "    tokens = tokenizer(text, padding=True, truncation=True, return_tensors=\"pt\")\n",
        "    return tokens\n",
        "\n",
        "df['Tokenized'] = df['Sentences'].apply(custom_tokenize)\n",
        "\n",
        "\n",
        "first_sentence_tokenized = df['Tokenized'][0]\n",
        "print(first_sentence_tokenized)"
      ],
      "metadata": {
        "id": "rW710kSi1onx"
      },
      "id": "rW710kSi1onx",
      "execution_count": null,
      "outputs": []
    },
    {
      "cell_type": "code",
      "source": [
        "labels = torch.tensor(df['Tag'], dtype=torch.long)\n",
        "print(labels.shape)"
      ],
      "metadata": {
        "colab": {
          "base_uri": "https://localhost:8080/"
        },
        "id": "mlZnoaTAv-ks",
        "outputId": "1b48c699-7a57-448a-9b42-3a2f7014ecf0"
      },
      "id": "mlZnoaTAv-ks",
      "execution_count": null,
      "outputs": [
        {
          "output_type": "stream",
          "name": "stdout",
          "text": [
            "torch.Size([216])\n"
          ]
        }
      ]
    },
    {
      "cell_type": "code",
      "source": [
        "batch_size = 16\n",
        "for epoch in range(20):\n",
        "  total_loss = 0.0\n",
        "  optimizer.zero_grad()\n",
        "\n",
        "  for i, row in df.iterrows():\n",
        "    # Forward pass\n",
        "    outputs = model(row[\"Tokenized\"][\"input_ids\"], attention_mask=row[\"Tokenized\"][\"attention_mask\"])\n",
        "    loss = loss_fn(outputs.logits, labels[i].view(-1))\n",
        "\n",
        "    # Backward pass\n",
        "    loss.backward()\n",
        "    optimizer.step()\n",
        "\n",
        "    total_loss += loss.item()  # Accumulate the loss for this batch\n",
        "\n",
        "  average_loss = total_loss / len(df)\n",
        "  print(f\"Epoch {epoch + 1}, Average loss: {average_loss}\")"
      ],
      "metadata": {
        "id": "9X4gOzKTsotS"
      },
      "id": "9X4gOzKTsotS",
      "execution_count": null,
      "outputs": []
    },
    {
      "cell_type": "code",
      "source": [
        "for epoch in range(20):\n",
        "  total_loss = 0.0\n",
        "  optimizer.zero_grad()\n",
        "  for i, row in df.iterrows():\n",
        "    # Forward pass\n",
        "    outputs = model(row[\"Tokenized\"][\"input_ids\"], attention_mask=row[\"Tokenized\"][\"attention_mask\"])\n",
        "    loss = loss_fn(outputs.logits, labels[i].view(-1))\n",
        "\n",
        "    # Backward pass\n",
        "    loss.backward()\n",
        "    optimizer.step()\n",
        "\n",
        "    total_loss += loss.item()  # Accumulate the loss for this batch\n",
        "\n",
        "  average_loss = total_loss / len(df)\n",
        "  print(f\"Epoch {epoch + 1}, Average loss: {average_loss}\")"
      ],
      "metadata": {
        "colab": {
          "base_uri": "https://localhost:8080/",
          "height": 649
        },
        "id": "I9ANQKN5_vU1",
        "outputId": "48d7ac04-54cb-46db-a8bc-395e20d760be"
      },
      "id": "I9ANQKN5_vU1",
      "execution_count": null,
      "outputs": [
        {
          "output_type": "stream",
          "name": "stdout",
          "text": [
            "Epoch 1, Average loss: 1.3072802856288575\n",
            "Epoch 2, Average loss: 1.4977748977641265\n",
            "Epoch 3, Average loss: 1.4848712453687634\n",
            "Epoch 4, Average loss: 1.347557984844402\n",
            "Epoch 5, Average loss: 1.3878188613388274\n",
            "Epoch 6, Average loss: 1.4509746338482257\n",
            "Epoch 7, Average loss: 1.3904243473101545\n",
            "Epoch 8, Average loss: 1.340078492131498\n",
            "Epoch 9, Average loss: 1.371604642658322\n",
            "Epoch 10, Average loss: 1.3683943309717708\n",
            "Epoch 11, Average loss: 1.4112837264935176\n",
            "Epoch 12, Average loss: 1.3484735014262024\n",
            "Epoch 13, Average loss: 1.4055931485361524\n"
          ]
        },
        {
          "output_type": "error",
          "ename": "KeyboardInterrupt",
          "evalue": "ignored",
          "traceback": [
            "\u001b[0;31m---------------------------------------------------------------------------\u001b[0m",
            "\u001b[0;31mKeyboardInterrupt\u001b[0m                         Traceback (most recent call last)",
            "\u001b[0;32m<ipython-input-58-448a463dbd6c>\u001b[0m in \u001b[0;36m<cell line: 1>\u001b[0;34m()\u001b[0m\n\u001b[1;32m      9\u001b[0m     \u001b[0;31m# Backward pass\u001b[0m\u001b[0;34m\u001b[0m\u001b[0;34m\u001b[0m\u001b[0m\n\u001b[1;32m     10\u001b[0m     \u001b[0mloss\u001b[0m\u001b[0;34m.\u001b[0m\u001b[0mbackward\u001b[0m\u001b[0;34m(\u001b[0m\u001b[0;34m)\u001b[0m\u001b[0;34m\u001b[0m\u001b[0;34m\u001b[0m\u001b[0m\n\u001b[0;32m---> 11\u001b[0;31m     \u001b[0moptimizer\u001b[0m\u001b[0;34m.\u001b[0m\u001b[0mstep\u001b[0m\u001b[0;34m(\u001b[0m\u001b[0;34m)\u001b[0m\u001b[0;34m\u001b[0m\u001b[0;34m\u001b[0m\u001b[0m\n\u001b[0m\u001b[1;32m     12\u001b[0m \u001b[0;34m\u001b[0m\u001b[0m\n\u001b[1;32m     13\u001b[0m     \u001b[0mtotal_loss\u001b[0m \u001b[0;34m+=\u001b[0m \u001b[0mloss\u001b[0m\u001b[0;34m.\u001b[0m\u001b[0mitem\u001b[0m\u001b[0;34m(\u001b[0m\u001b[0;34m)\u001b[0m  \u001b[0;31m# Accumulate the loss for this batch\u001b[0m\u001b[0;34m\u001b[0m\u001b[0;34m\u001b[0m\u001b[0m\n",
            "\u001b[0;32m/usr/local/lib/python3.10/dist-packages/torch/optim/optimizer.py\u001b[0m in \u001b[0;36mwrapper\u001b[0;34m(*args, **kwargs)\u001b[0m\n\u001b[1;32m    278\u001b[0m                                                f\"but got {result}.\")\n\u001b[1;32m    279\u001b[0m \u001b[0;34m\u001b[0m\u001b[0m\n\u001b[0;32m--> 280\u001b[0;31m                 \u001b[0mout\u001b[0m \u001b[0;34m=\u001b[0m \u001b[0mfunc\u001b[0m\u001b[0;34m(\u001b[0m\u001b[0;34m*\u001b[0m\u001b[0margs\u001b[0m\u001b[0;34m,\u001b[0m \u001b[0;34m**\u001b[0m\u001b[0mkwargs\u001b[0m\u001b[0;34m)\u001b[0m\u001b[0;34m\u001b[0m\u001b[0;34m\u001b[0m\u001b[0m\n\u001b[0m\u001b[1;32m    281\u001b[0m                 \u001b[0mself\u001b[0m\u001b[0;34m.\u001b[0m\u001b[0m_optimizer_step_code\u001b[0m\u001b[0;34m(\u001b[0m\u001b[0;34m)\u001b[0m\u001b[0;34m\u001b[0m\u001b[0;34m\u001b[0m\u001b[0m\n\u001b[1;32m    282\u001b[0m \u001b[0;34m\u001b[0m\u001b[0m\n",
            "\u001b[0;32m/usr/local/lib/python3.10/dist-packages/torch/optim/optimizer.py\u001b[0m in \u001b[0;36m_use_grad\u001b[0;34m(self, *args, **kwargs)\u001b[0m\n\u001b[1;32m     31\u001b[0m         \u001b[0;32mtry\u001b[0m\u001b[0;34m:\u001b[0m\u001b[0;34m\u001b[0m\u001b[0;34m\u001b[0m\u001b[0m\n\u001b[1;32m     32\u001b[0m             \u001b[0mtorch\u001b[0m\u001b[0;34m.\u001b[0m\u001b[0mset_grad_enabled\u001b[0m\u001b[0;34m(\u001b[0m\u001b[0mself\u001b[0m\u001b[0;34m.\u001b[0m\u001b[0mdefaults\u001b[0m\u001b[0;34m[\u001b[0m\u001b[0;34m'differentiable'\u001b[0m\u001b[0;34m]\u001b[0m\u001b[0;34m)\u001b[0m\u001b[0;34m\u001b[0m\u001b[0;34m\u001b[0m\u001b[0m\n\u001b[0;32m---> 33\u001b[0;31m             \u001b[0mret\u001b[0m \u001b[0;34m=\u001b[0m \u001b[0mfunc\u001b[0m\u001b[0;34m(\u001b[0m\u001b[0mself\u001b[0m\u001b[0;34m,\u001b[0m \u001b[0;34m*\u001b[0m\u001b[0margs\u001b[0m\u001b[0;34m,\u001b[0m \u001b[0;34m**\u001b[0m\u001b[0mkwargs\u001b[0m\u001b[0;34m)\u001b[0m\u001b[0;34m\u001b[0m\u001b[0;34m\u001b[0m\u001b[0m\n\u001b[0m\u001b[1;32m     34\u001b[0m         \u001b[0;32mfinally\u001b[0m\u001b[0;34m:\u001b[0m\u001b[0;34m\u001b[0m\u001b[0;34m\u001b[0m\u001b[0m\n\u001b[1;32m     35\u001b[0m             \u001b[0mtorch\u001b[0m\u001b[0;34m.\u001b[0m\u001b[0mset_grad_enabled\u001b[0m\u001b[0;34m(\u001b[0m\u001b[0mprev_grad\u001b[0m\u001b[0;34m)\u001b[0m\u001b[0;34m\u001b[0m\u001b[0;34m\u001b[0m\u001b[0m\n",
            "\u001b[0;32m/usr/local/lib/python3.10/dist-packages/torch/optim/adamw.py\u001b[0m in \u001b[0;36mstep\u001b[0;34m(self, closure)\u001b[0m\n\u001b[1;32m    169\u001b[0m             )\n\u001b[1;32m    170\u001b[0m \u001b[0;34m\u001b[0m\u001b[0m\n\u001b[0;32m--> 171\u001b[0;31m             adamw(\n\u001b[0m\u001b[1;32m    172\u001b[0m                 \u001b[0mparams_with_grad\u001b[0m\u001b[0;34m,\u001b[0m\u001b[0;34m\u001b[0m\u001b[0;34m\u001b[0m\u001b[0m\n\u001b[1;32m    173\u001b[0m                 \u001b[0mgrads\u001b[0m\u001b[0;34m,\u001b[0m\u001b[0;34m\u001b[0m\u001b[0;34m\u001b[0m\u001b[0m\n",
            "\u001b[0;32m/usr/local/lib/python3.10/dist-packages/torch/optim/adamw.py\u001b[0m in \u001b[0;36madamw\u001b[0;34m(params, grads, exp_avgs, exp_avg_sqs, max_exp_avg_sqs, state_steps, foreach, capturable, differentiable, fused, grad_scale, found_inf, amsgrad, beta1, beta2, lr, weight_decay, eps, maximize)\u001b[0m\n\u001b[1;32m    319\u001b[0m         \u001b[0mfunc\u001b[0m \u001b[0;34m=\u001b[0m \u001b[0m_single_tensor_adamw\u001b[0m\u001b[0;34m\u001b[0m\u001b[0;34m\u001b[0m\u001b[0m\n\u001b[1;32m    320\u001b[0m \u001b[0;34m\u001b[0m\u001b[0m\n\u001b[0;32m--> 321\u001b[0;31m     func(\n\u001b[0m\u001b[1;32m    322\u001b[0m         \u001b[0mparams\u001b[0m\u001b[0;34m,\u001b[0m\u001b[0;34m\u001b[0m\u001b[0;34m\u001b[0m\u001b[0m\n\u001b[1;32m    323\u001b[0m         \u001b[0mgrads\u001b[0m\u001b[0;34m,\u001b[0m\u001b[0;34m\u001b[0m\u001b[0;34m\u001b[0m\u001b[0m\n",
            "\u001b[0;32m/usr/local/lib/python3.10/dist-packages/torch/optim/adamw.py\u001b[0m in \u001b[0;36m_single_tensor_adamw\u001b[0;34m(params, grads, exp_avgs, exp_avg_sqs, max_exp_avg_sqs, state_steps, grad_scale, found_inf, amsgrad, beta1, beta2, lr, weight_decay, eps, maximize, capturable, differentiable)\u001b[0m\n\u001b[1;32m    440\u001b[0m                 \u001b[0mdenom\u001b[0m \u001b[0;34m=\u001b[0m \u001b[0;34m(\u001b[0m\u001b[0mexp_avg_sq\u001b[0m\u001b[0;34m.\u001b[0m\u001b[0msqrt\u001b[0m\u001b[0;34m(\u001b[0m\u001b[0;34m)\u001b[0m \u001b[0;34m/\u001b[0m \u001b[0mbias_correction2_sqrt\u001b[0m\u001b[0;34m)\u001b[0m\u001b[0;34m.\u001b[0m\u001b[0madd_\u001b[0m\u001b[0;34m(\u001b[0m\u001b[0meps\u001b[0m\u001b[0;34m)\u001b[0m\u001b[0;34m\u001b[0m\u001b[0;34m\u001b[0m\u001b[0m\n\u001b[1;32m    441\u001b[0m \u001b[0;34m\u001b[0m\u001b[0m\n\u001b[0;32m--> 442\u001b[0;31m             \u001b[0mparam\u001b[0m\u001b[0;34m.\u001b[0m\u001b[0maddcdiv_\u001b[0m\u001b[0;34m(\u001b[0m\u001b[0mexp_avg\u001b[0m\u001b[0;34m,\u001b[0m \u001b[0mdenom\u001b[0m\u001b[0;34m,\u001b[0m \u001b[0mvalue\u001b[0m\u001b[0;34m=\u001b[0m\u001b[0;34m-\u001b[0m\u001b[0mstep_size\u001b[0m\u001b[0;34m)\u001b[0m\u001b[0;34m\u001b[0m\u001b[0;34m\u001b[0m\u001b[0m\n\u001b[0m\u001b[1;32m    443\u001b[0m \u001b[0;34m\u001b[0m\u001b[0m\n\u001b[1;32m    444\u001b[0m \u001b[0;34m\u001b[0m\u001b[0m\n",
            "\u001b[0;31mKeyboardInterrupt\u001b[0m: "
          ]
        }
      ]
    },
    {
      "cell_type": "code",
      "source": [
        "# Create one-hot encoded labels\n",
        "labels_one_hot = torch.nn.functional.one_hot(labels, num_classes=len(labels.unique()))\n",
        "labels_one_hot[0]"
      ],
      "metadata": {
        "colab": {
          "base_uri": "https://localhost:8080/"
        },
        "id": "Ij8XtLj3MM5_",
        "outputId": "98efa9fa-fa41-4243-ef48-5a34cd8197ea"
      },
      "id": "Ij8XtLj3MM5_",
      "execution_count": null,
      "outputs": [
        {
          "output_type": "execute_result",
          "data": {
            "text/plain": [
              "tensor([0, 1, 0, 0])"
            ]
          },
          "metadata": {},
          "execution_count": 34
        }
      ]
    },
    {
      "cell_type": "code",
      "source": [
        "outputs.logits"
      ],
      "metadata": {
        "colab": {
          "base_uri": "https://localhost:8080/"
        },
        "id": "nZ5WLoVGNtd1",
        "outputId": "82513d9d-1e69-4a06-c249-c4da18bb1e68"
      },
      "id": "nZ5WLoVGNtd1",
      "execution_count": null,
      "outputs": [
        {
          "output_type": "execute_result",
          "data": {
            "text/plain": [
              "tensor([[0.0675, 0.1436]], grad_fn=<AddmmBackward0>)"
            ]
          },
          "metadata": {},
          "execution_count": 28
        }
      ]
    },
    {
      "cell_type": "code",
      "source": [
        "labels[i].view(-1)"
      ],
      "metadata": {
        "colab": {
          "base_uri": "https://localhost:8080/"
        },
        "id": "9hKyCVCxSRY7",
        "outputId": "761dfeff-e75d-447f-a7a2-76d26e46f9d7"
      },
      "id": "9hKyCVCxSRY7",
      "execution_count": null,
      "outputs": [
        {
          "output_type": "execute_result",
          "data": {
            "text/plain": [
              "tensor([2])"
            ]
          },
          "metadata": {},
          "execution_count": 29
        }
      ]
    },
    {
      "cell_type": "code",
      "source": [
        "torch.argmax(outputs.logits, dim=1)"
      ],
      "metadata": {
        "colab": {
          "base_uri": "https://localhost:8080/"
        },
        "id": "2Z75lAiIR4Kx",
        "outputId": "178f4b9f-cda0-4da4-c7a5-f1b6525a04be"
      },
      "id": "2Z75lAiIR4Kx",
      "execution_count": null,
      "outputs": [
        {
          "output_type": "execute_result",
          "data": {
            "text/plain": [
              "tensor([1])"
            ]
          },
          "metadata": {},
          "execution_count": 27
        }
      ]
    },
    {
      "cell_type": "code",
      "source": [
        "l = torch.tensor([0,1,2,3], dtype=torch.long)\n",
        "l.shape, l.view(-1).shape"
      ],
      "metadata": {
        "colab": {
          "base_uri": "https://localhost:8080/"
        },
        "id": "fy0NOC-JPGs8",
        "outputId": "25cf3832-69d4-418c-e812-a41793482c69"
      },
      "id": "fy0NOC-JPGs8",
      "execution_count": null,
      "outputs": [
        {
          "output_type": "execute_result",
          "data": {
            "text/plain": [
              "(torch.Size([4]), torch.Size([4]))"
            ]
          },
          "metadata": {},
          "execution_count": 10
        }
      ]
    },
    {
      "cell_type": "code",
      "source": [
        "labels.view(-1).shape"
      ],
      "metadata": {
        "colab": {
          "base_uri": "https://localhost:8080/"
        },
        "id": "PWbftEsvLGhr",
        "outputId": "6c46df1a-cb33-4367-fb57-6aef168ace27"
      },
      "id": "PWbftEsvLGhr",
      "execution_count": null,
      "outputs": [
        {
          "output_type": "execute_result",
          "data": {
            "text/plain": [
              "torch.Size([216])"
            ]
          },
          "metadata": {},
          "execution_count": 67
        }
      ]
    },
    {
      "cell_type": "code",
      "source": [
        "labels"
      ],
      "metadata": {
        "colab": {
          "base_uri": "https://localhost:8080/"
        },
        "id": "FfsZxe7ULoMY",
        "outputId": "8f3bedf6-8492-4031-a692-2b62c517fefb"
      },
      "id": "FfsZxe7ULoMY",
      "execution_count": null,
      "outputs": [
        {
          "output_type": "execute_result",
          "data": {
            "text/plain": [
              "tensor([1, 2, 1, 2, 3, 0, 1, 2, 1, 2, 0, 3, 1, 2, 1, 2, 0, 3, 1, 2, 1, 2, 3, 0,\n",
              "        1, 2, 1, 2, 3, 0, 1, 2, 1, 2, 3, 0, 1, 2, 1, 2, 3, 0, 1, 2, 1, 2, 3, 0,\n",
              "        1, 2, 1, 2, 3, 0, 1, 2, 1, 2, 3, 0, 1, 2, 1, 2, 3, 0, 1, 2, 1, 2, 3, 0,\n",
              "        1, 2, 1, 2, 3, 0, 1, 2, 1, 2, 3, 0, 1, 2, 1, 2, 3, 0, 1, 2, 1, 2, 3, 1,\n",
              "        2, 1, 2, 3, 3, 1, 2, 1, 2, 3, 1, 2, 1, 3, 1, 2, 1, 2, 3, 1, 2, 1, 2, 3,\n",
              "        1, 2, 1, 3, 1, 2, 1, 3, 1, 2, 1, 3, 1, 2, 1, 3, 1, 2, 1, 3, 1, 2, 1, 2,\n",
              "        1, 1, 2, 3, 0, 2, 1, 2, 1, 3, 0, 2, 1, 1, 3, 0, 2, 1, 1, 2, 3, 0, 2, 1,\n",
              "        1, 2, 3, 0, 1, 1, 1, 1, 2, 1, 1, 1, 1, 2, 1, 3, 0, 1, 1, 0, 2, 3, 0, 1,\n",
              "        0, 0, 1, 1, 1, 1, 0, 3, 0, 1, 2, 1, 2, 2, 1, 2, 1, 2, 3, 2, 2, 1, 2, 0])"
            ]
          },
          "metadata": {},
          "execution_count": 68
        }
      ]
    },
    {
      "cell_type": "code",
      "source": [
        "all_logits.shape"
      ],
      "metadata": {
        "colab": {
          "base_uri": "https://localhost:8080/"
        },
        "id": "HphvrgrZG2Fb",
        "outputId": "37906521-28eb-4f08-a62f-9499818a4bfe"
      },
      "id": "HphvrgrZG2Fb",
      "execution_count": null,
      "outputs": [
        {
          "output_type": "execute_result",
          "data": {
            "text/plain": [
              "torch.Size([216, 2])"
            ]
          },
          "metadata": {},
          "execution_count": 66
        }
      ]
    },
    {
      "cell_type": "markdown",
      "source": [
        "# Fine-Tuning with a More even class distribution\n",
        "* trade-off: less data"
      ],
      "metadata": {
        "id": "xHJP84EPF8z_"
      },
      "id": "xHJP84EPF8z_"
    },
    {
      "cell_type": "code",
      "source": [
        "import pandas as pd\n",
        "\n",
        "df = pd.read_csv('/content/sentences_and_tags.csv')\n",
        "\n",
        "df.head()"
      ],
      "metadata": {
        "colab": {
          "base_uri": "https://localhost:8080/",
          "height": 206
        },
        "outputId": "67e4ee3a-4a70-4fbf-d98f-4cf8b6cd4236",
        "id": "XTu-w2UrGIFk"
      },
      "execution_count": null,
      "outputs": [
        {
          "output_type": "execute_result",
          "data": {
            "text/plain": [
              "  Unnamed: 0                                          Sentences  Tag Name Tag\n",
              "0  sentece 0  I first noticed my tinnitus after attending a ...    1     Main\n",
              "1  sentece 1      I was not wearing ear protection at the time.    2     Note\n",
              "2  sentece 2  I've seen an audiologist who recommended heari...    1     Main\n",
              "3  sentece 3  I've been using them regularly, but the tinnit...    2     Note\n",
              "4  sentece 4  It's frustrating because it's affecting my sleep.    3  Emotion"
            ],
            "text/html": [
              "\n",
              "  <div id=\"df-c910b56e-f19d-4661-a143-8578a9ca564b\" class=\"colab-df-container\">\n",
              "    <div>\n",
              "<style scoped>\n",
              "    .dataframe tbody tr th:only-of-type {\n",
              "        vertical-align: middle;\n",
              "    }\n",
              "\n",
              "    .dataframe tbody tr th {\n",
              "        vertical-align: top;\n",
              "    }\n",
              "\n",
              "    .dataframe thead th {\n",
              "        text-align: right;\n",
              "    }\n",
              "</style>\n",
              "<table border=\"1\" class=\"dataframe\">\n",
              "  <thead>\n",
              "    <tr style=\"text-align: right;\">\n",
              "      <th></th>\n",
              "      <th>Unnamed: 0</th>\n",
              "      <th>Sentences</th>\n",
              "      <th>Tag</th>\n",
              "      <th>Name Tag</th>\n",
              "    </tr>\n",
              "  </thead>\n",
              "  <tbody>\n",
              "    <tr>\n",
              "      <th>0</th>\n",
              "      <td>sentece 0</td>\n",
              "      <td>I first noticed my tinnitus after attending a ...</td>\n",
              "      <td>1</td>\n",
              "      <td>Main</td>\n",
              "    </tr>\n",
              "    <tr>\n",
              "      <th>1</th>\n",
              "      <td>sentece 1</td>\n",
              "      <td>I was not wearing ear protection at the time.</td>\n",
              "      <td>2</td>\n",
              "      <td>Note</td>\n",
              "    </tr>\n",
              "    <tr>\n",
              "      <th>2</th>\n",
              "      <td>sentece 2</td>\n",
              "      <td>I've seen an audiologist who recommended heari...</td>\n",
              "      <td>1</td>\n",
              "      <td>Main</td>\n",
              "    </tr>\n",
              "    <tr>\n",
              "      <th>3</th>\n",
              "      <td>sentece 3</td>\n",
              "      <td>I've been using them regularly, but the tinnit...</td>\n",
              "      <td>2</td>\n",
              "      <td>Note</td>\n",
              "    </tr>\n",
              "    <tr>\n",
              "      <th>4</th>\n",
              "      <td>sentece 4</td>\n",
              "      <td>It's frustrating because it's affecting my sleep.</td>\n",
              "      <td>3</td>\n",
              "      <td>Emotion</td>\n",
              "    </tr>\n",
              "  </tbody>\n",
              "</table>\n",
              "</div>\n",
              "    <div class=\"colab-df-buttons\">\n",
              "\n",
              "  <div class=\"colab-df-container\">\n",
              "    <button class=\"colab-df-convert\" onclick=\"convertToInteractive('df-c910b56e-f19d-4661-a143-8578a9ca564b')\"\n",
              "            title=\"Convert this dataframe to an interactive table.\"\n",
              "            style=\"display:none;\">\n",
              "\n",
              "  <svg xmlns=\"http://www.w3.org/2000/svg\" height=\"24px\" viewBox=\"0 -960 960 960\">\n",
              "    <path d=\"M120-120v-720h720v720H120Zm60-500h600v-160H180v160Zm220 220h160v-160H400v160Zm0 220h160v-160H400v160ZM180-400h160v-160H180v160Zm440 0h160v-160H620v160ZM180-180h160v-160H180v160Zm440 0h160v-160H620v160Z\"/>\n",
              "  </svg>\n",
              "    </button>\n",
              "\n",
              "  <style>\n",
              "    .colab-df-container {\n",
              "      display:flex;\n",
              "      gap: 12px;\n",
              "    }\n",
              "\n",
              "    .colab-df-convert {\n",
              "      background-color: #E8F0FE;\n",
              "      border: none;\n",
              "      border-radius: 50%;\n",
              "      cursor: pointer;\n",
              "      display: none;\n",
              "      fill: #1967D2;\n",
              "      height: 32px;\n",
              "      padding: 0 0 0 0;\n",
              "      width: 32px;\n",
              "    }\n",
              "\n",
              "    .colab-df-convert:hover {\n",
              "      background-color: #E2EBFA;\n",
              "      box-shadow: 0px 1px 2px rgba(60, 64, 67, 0.3), 0px 1px 3px 1px rgba(60, 64, 67, 0.15);\n",
              "      fill: #174EA6;\n",
              "    }\n",
              "\n",
              "    .colab-df-buttons div {\n",
              "      margin-bottom: 4px;\n",
              "    }\n",
              "\n",
              "    [theme=dark] .colab-df-convert {\n",
              "      background-color: #3B4455;\n",
              "      fill: #D2E3FC;\n",
              "    }\n",
              "\n",
              "    [theme=dark] .colab-df-convert:hover {\n",
              "      background-color: #434B5C;\n",
              "      box-shadow: 0px 1px 3px 1px rgba(0, 0, 0, 0.15);\n",
              "      filter: drop-shadow(0px 1px 2px rgba(0, 0, 0, 0.3));\n",
              "      fill: #FFFFFF;\n",
              "    }\n",
              "  </style>\n",
              "\n",
              "    <script>\n",
              "      const buttonEl =\n",
              "        document.querySelector('#df-c910b56e-f19d-4661-a143-8578a9ca564b button.colab-df-convert');\n",
              "      buttonEl.style.display =\n",
              "        google.colab.kernel.accessAllowed ? 'block' : 'none';\n",
              "\n",
              "      async function convertToInteractive(key) {\n",
              "        const element = document.querySelector('#df-c910b56e-f19d-4661-a143-8578a9ca564b');\n",
              "        const dataTable =\n",
              "          await google.colab.kernel.invokeFunction('convertToInteractive',\n",
              "                                                    [key], {});\n",
              "        if (!dataTable) return;\n",
              "\n",
              "        const docLinkHtml = 'Like what you see? Visit the ' +\n",
              "          '<a target=\"_blank\" href=https://colab.research.google.com/notebooks/data_table.ipynb>data table notebook</a>'\n",
              "          + ' to learn more about interactive tables.';\n",
              "        element.innerHTML = '';\n",
              "        dataTable['output_type'] = 'display_data';\n",
              "        await google.colab.output.renderOutput(dataTable, element);\n",
              "        const docLink = document.createElement('div');\n",
              "        docLink.innerHTML = docLinkHtml;\n",
              "        element.appendChild(docLink);\n",
              "      }\n",
              "    </script>\n",
              "  </div>\n",
              "\n",
              "\n",
              "<div id=\"df-737bfe03-737c-495f-96b7-cd0ba7131616\">\n",
              "  <button class=\"colab-df-quickchart\" onclick=\"quickchart('df-737bfe03-737c-495f-96b7-cd0ba7131616')\"\n",
              "            title=\"Suggest charts.\"\n",
              "            style=\"display:none;\">\n",
              "\n",
              "<svg xmlns=\"http://www.w3.org/2000/svg\" height=\"24px\"viewBox=\"0 0 24 24\"\n",
              "     width=\"24px\">\n",
              "    <g>\n",
              "        <path d=\"M19 3H5c-1.1 0-2 .9-2 2v14c0 1.1.9 2 2 2h14c1.1 0 2-.9 2-2V5c0-1.1-.9-2-2-2zM9 17H7v-7h2v7zm4 0h-2V7h2v10zm4 0h-2v-4h2v4z\"/>\n",
              "    </g>\n",
              "</svg>\n",
              "  </button>\n",
              "\n",
              "<style>\n",
              "  .colab-df-quickchart {\n",
              "      --bg-color: #E8F0FE;\n",
              "      --fill-color: #1967D2;\n",
              "      --hover-bg-color: #E2EBFA;\n",
              "      --hover-fill-color: #174EA6;\n",
              "      --disabled-fill-color: #AAA;\n",
              "      --disabled-bg-color: #DDD;\n",
              "  }\n",
              "\n",
              "  [theme=dark] .colab-df-quickchart {\n",
              "      --bg-color: #3B4455;\n",
              "      --fill-color: #D2E3FC;\n",
              "      --hover-bg-color: #434B5C;\n",
              "      --hover-fill-color: #FFFFFF;\n",
              "      --disabled-bg-color: #3B4455;\n",
              "      --disabled-fill-color: #666;\n",
              "  }\n",
              "\n",
              "  .colab-df-quickchart {\n",
              "    background-color: var(--bg-color);\n",
              "    border: none;\n",
              "    border-radius: 50%;\n",
              "    cursor: pointer;\n",
              "    display: none;\n",
              "    fill: var(--fill-color);\n",
              "    height: 32px;\n",
              "    padding: 0;\n",
              "    width: 32px;\n",
              "  }\n",
              "\n",
              "  .colab-df-quickchart:hover {\n",
              "    background-color: var(--hover-bg-color);\n",
              "    box-shadow: 0 1px 2px rgba(60, 64, 67, 0.3), 0 1px 3px 1px rgba(60, 64, 67, 0.15);\n",
              "    fill: var(--button-hover-fill-color);\n",
              "  }\n",
              "\n",
              "  .colab-df-quickchart-complete:disabled,\n",
              "  .colab-df-quickchart-complete:disabled:hover {\n",
              "    background-color: var(--disabled-bg-color);\n",
              "    fill: var(--disabled-fill-color);\n",
              "    box-shadow: none;\n",
              "  }\n",
              "\n",
              "  .colab-df-spinner {\n",
              "    border: 2px solid var(--fill-color);\n",
              "    border-color: transparent;\n",
              "    border-bottom-color: var(--fill-color);\n",
              "    animation:\n",
              "      spin 1s steps(1) infinite;\n",
              "  }\n",
              "\n",
              "  @keyframes spin {\n",
              "    0% {\n",
              "      border-color: transparent;\n",
              "      border-bottom-color: var(--fill-color);\n",
              "      border-left-color: var(--fill-color);\n",
              "    }\n",
              "    20% {\n",
              "      border-color: transparent;\n",
              "      border-left-color: var(--fill-color);\n",
              "      border-top-color: var(--fill-color);\n",
              "    }\n",
              "    30% {\n",
              "      border-color: transparent;\n",
              "      border-left-color: var(--fill-color);\n",
              "      border-top-color: var(--fill-color);\n",
              "      border-right-color: var(--fill-color);\n",
              "    }\n",
              "    40% {\n",
              "      border-color: transparent;\n",
              "      border-right-color: var(--fill-color);\n",
              "      border-top-color: var(--fill-color);\n",
              "    }\n",
              "    60% {\n",
              "      border-color: transparent;\n",
              "      border-right-color: var(--fill-color);\n",
              "    }\n",
              "    80% {\n",
              "      border-color: transparent;\n",
              "      border-right-color: var(--fill-color);\n",
              "      border-bottom-color: var(--fill-color);\n",
              "    }\n",
              "    90% {\n",
              "      border-color: transparent;\n",
              "      border-bottom-color: var(--fill-color);\n",
              "    }\n",
              "  }\n",
              "</style>\n",
              "\n",
              "  <script>\n",
              "    async function quickchart(key) {\n",
              "      const quickchartButtonEl =\n",
              "        document.querySelector('#' + key + ' button');\n",
              "      quickchartButtonEl.disabled = true;  // To prevent multiple clicks.\n",
              "      quickchartButtonEl.classList.add('colab-df-spinner');\n",
              "      try {\n",
              "        const charts = await google.colab.kernel.invokeFunction(\n",
              "            'suggestCharts', [key], {});\n",
              "      } catch (error) {\n",
              "        console.error('Error during call to suggestCharts:', error);\n",
              "      }\n",
              "      quickchartButtonEl.classList.remove('colab-df-spinner');\n",
              "      quickchartButtonEl.classList.add('colab-df-quickchart-complete');\n",
              "    }\n",
              "    (() => {\n",
              "      let quickchartButtonEl =\n",
              "        document.querySelector('#df-737bfe03-737c-495f-96b7-cd0ba7131616 button');\n",
              "      quickchartButtonEl.style.display =\n",
              "        google.colab.kernel.accessAllowed ? 'block' : 'none';\n",
              "    })();\n",
              "  </script>\n",
              "</div>\n",
              "    </div>\n",
              "  </div>\n"
            ]
          },
          "metadata": {},
          "execution_count": 35
        }
      ],
      "id": "XTu-w2UrGIFk"
    },
    {
      "cell_type": "code",
      "source": [
        "import pandas as pd\n",
        "import matplotlib.pyplot as plt\n",
        "\n",
        "# Define a dictionary that maps labels to colors\n",
        "color_mapping = {'Main': 'blue', 'Note': 'orange', 'Emotion': 'green', 'None': 'red'}\n",
        "\n",
        "\n",
        "# Create a pie chart with labels and custom colors\n",
        "name_tag_counts = df['Name Tag'].value_counts()\n",
        "name_tags = name_tag_counts.index\n",
        "colors = [color_mapping[tag] for tag in name_tags]\n",
        "name_tag_counts.plot(kind='pie', colors=colors, autopct='%1.1f%%')\n",
        "plt.axis('equal')  # Equal aspect ratio ensures that the pie is drawn as a circle.\n",
        "\n",
        "# Add a legend with labels\n",
        "plt.legend(name_tags)\n",
        "\n",
        "plt.title(\"Distribution of Name Tags\")\n",
        "plt.show()\n",
        "\n"
      ],
      "metadata": {
        "colab": {
          "base_uri": "https://localhost:8080/",
          "height": 430
        },
        "id": "ouyQxMNuM3su",
        "outputId": "23cee8bc-b4a0-4632-8523-0bba461803c1"
      },
      "id": "ouyQxMNuM3su",
      "execution_count": null,
      "outputs": [
        {
          "output_type": "display_data",
          "data": {
            "text/plain": [
              "<Figure size 640x480 with 1 Axes>"
            ],
            "image/png": "[encoded data removed]"
          },
          "metadata": {}
        }
      ]
    },
    {
      "cell_type": "code",
      "source": [
        "# Fraction of 'Note' and 'Main' class data to keep\n",
        "fraction_to_keep = 0.4\n",
        "\n",
        "# Filter rows for the 'Note' class, randomly sample a fraction of them, and combine with the non-'Note' class data\n",
        "note_class_data = df[df['Name Tag'] == 'Note']\n",
        "sampled_note_class_data = note_class_data.sample(frac=fraction_to_keep, random_state=17)\n",
        "\n",
        "# Filter rows for the 'Main' class, randomly sample a fraction of them, and combine with the existing data (filtered_df)\n",
        "main_class_data = df[df['Name Tag'] == 'Main']\n",
        "sampled_main_class_data = main_class_data.sample(frac=fraction_to_keep, random_state=17)\n",
        "\n",
        "# Combine the sampled 'Note' and 'Main' class data with the non-'Note' and non-'Main' class data\n",
        "filtered_df = pd.concat([df[~df['Name Tag'].isin(['Note', 'Main'])], sampled_note_class_data, sampled_main_class_data])\n"
      ],
      "metadata": {
        "id": "zClU1LbMG6-1"
      },
      "id": "zClU1LbMG6-1",
      "execution_count": null,
      "outputs": []
    },
    {
      "cell_type": "code",
      "source": [
        "import pandas as pd\n",
        "import matplotlib.pyplot as plt\n",
        "\n",
        "# Define a dictionary that maps labels to colors\n",
        "color_mapping = {'Main': 'blue', 'Note': 'orange', 'Emotion': 'green', 'None': 'red'}\n",
        "\n",
        "\n",
        "# Create a pie chart with labels and custom colors\n",
        "name_tag_counts = filtered_df['Name Tag'].value_counts()\n",
        "name_tags = name_tag_counts.index\n",
        "colors = [color_mapping[tag] for tag in name_tags]\n",
        "name_tag_counts.plot(kind='pie', colors=colors, autopct='%1.1f%%')\n",
        "plt.axis('equal')  # Equal aspect ratio ensures that the pie is drawn as a circle.\n",
        "\n",
        "# Add a legend with labels\n",
        "plt.legend(name_tags)\n",
        "\n",
        "plt.title(\"Distribution of Name Tags\")\n",
        "plt.show()\n",
        "\n"
      ],
      "metadata": {
        "colab": {
          "base_uri": "https://localhost:8080/",
          "height": 428
        },
        "outputId": "a0be2c03-b4ba-404d-94f8-04ef87e17ac7",
        "id": "NOm8evkSHVkC"
      },
      "execution_count": null,
      "outputs": [
        {
          "output_type": "display_data",
          "data": {
            "text/plain": [
              "<Figure size 640x480 with 1 Axes>"
            ],
            "image/png": "[encoded data removed]"
          },
          "metadata": {}
        }
      ],
      "id": "NOm8evkSHVkC"
    },
    {
      "cell_type": "code",
      "source": [
        "from sklearn.decomposition import PCA\n",
        "from sklearn.feature_extraction.text import TfidfVectorizer\n",
        "import matplotlib.pyplot as plt\n",
        "import numpy as np\n",
        "\n",
        "name_tags = filtered_df['Name Tag']\n",
        "sentences = filtered_df['Sentences']\n",
        "\n",
        "# Create a color mapping dictionary\n",
        "color_mapping = {'Main': 'blue', 'Note': 'orange', 'Emotion': 'green', 'None': 'red'}\n",
        "\n",
        "# Map 'Name Tag' values to colors\n",
        "name_tag_colors = [color_mapping[tag] for tag in name_tags]\n",
        "\n",
        "# TF-IDF Vectorization:\n",
        "tfidf_vectorizer = TfidfVectorizer()\n",
        "sentence_vectors = tfidf_vectorizer.fit_transform(sentences)\n",
        "\n",
        "# Perform PCA\n",
        "pca = PCA(n_components=2)\n",
        "reduced_features = pca.fit_transform(sentence_vectors.toarray())\n",
        "\n",
        "# Create the PCA plot with colors\n",
        "plt.figure(figsize=(10, 8))\n",
        "for tag, color in color_mapping.items():\n",
        "    plt.scatter(reduced_features[name_tags == tag, 0], reduced_features[name_tags == tag, 1], label=tag, c=color)\n",
        "\n",
        "plt.title(\"PCA Plot of Text Data\")\n",
        "plt.xlabel(\"Principal Component 1\")\n",
        "plt.ylabel(\"Principal Component 2\")\n",
        "plt.legend()\n",
        "plt.show()\n"
      ],
      "metadata": {
        "colab": {
          "base_uri": "https://localhost:8080/",
          "height": 718
        },
        "id": "UyLrgcYnK-ta",
        "outputId": "fd804742-8273-4ac8-b5e3-62806241ba8c"
      },
      "id": "UyLrgcYnK-ta",
      "execution_count": null,
      "outputs": [
        {
          "output_type": "display_data",
          "data": {
            "text/plain": [
              "<Figure size 1000x800 with 1 Axes>"
            ],
            "image/png": "[encoded data removed]"
          },
          "metadata": {}
        }
      ]
    },
    {
      "cell_type": "code",
      "source": [
        "import transformers\n",
        "import torch\n",
        "from transformers import AutoTokenizer\n",
        "from torch.nn import CrossEntropyLoss\n",
        "\n",
        "tokenizer = AutoTokenizer.from_pretrained(\"emilyalsentzer/Bio_ClinicalBERT\")"
      ],
      "metadata": {
        "id": "__cyIxQxGIFt"
      },
      "execution_count": null,
      "outputs": [],
      "id": "__cyIxQxGIFt"
    },
    {
      "cell_type": "code",
      "source": [
        "from transformers import BertConfig, BertForSequenceClassification\n",
        "\n",
        "config = BertConfig.from_pretrained('bert-base-uncased', output_hidden_states=True, num_labels=4)\n",
        "model = BertForSequenceClassification.from_pretrained('bert-base-uncased', config=config)\n",
        "optimizer = torch.optim.AdamW(model.parameters(), lr=1e-5, weight_decay=1e-2)\n",
        "loss_fn = torch.nn.CrossEntropyLoss()"
      ],
      "metadata": {
        "colab": {
          "base_uri": "https://localhost:8080/"
        },
        "outputId": "da3cf24e-1ead-45f4-c5ac-b89a72d01229",
        "id": "Y_R3s-r_GIFu"
      },
      "execution_count": null,
      "outputs": [
        {
          "output_type": "stream",
          "name": "stderr",
          "text": [
            "Some weights of BertForSequenceClassification were not initialized from the model checkpoint at bert-base-uncased and are newly initialized: ['classifier.weight', 'classifier.bias']\n",
            "You should probably TRAIN this model on a down-stream task to be able to use it for predictions and inference.\n"
          ]
        }
      ],
      "id": "Y_R3s-r_GIFu"
    },
    {
      "cell_type": "code",
      "source": [
        "len(filtered_df)"
      ],
      "metadata": {
        "colab": {
          "base_uri": "https://localhost:8080/"
        },
        "id": "hcHD9HrAODJD",
        "outputId": "a3afc77a-29dd-44e6-f1ad-0f2d6393505d"
      },
      "id": "hcHD9HrAODJD",
      "execution_count": null,
      "outputs": [
        {
          "output_type": "execute_result",
          "data": {
            "text/plain": [
              "125"
            ]
          },
          "metadata": {},
          "execution_count": 71
        }
      ]
    },
    {
      "cell_type": "markdown",
      "source": [
        "## Method to Tune in Batches"
      ],
      "metadata": {
        "id": "-RuO9u2mGIFu"
      },
      "id": "-RuO9u2mGIFu"
    },
    {
      "cell_type": "code",
      "source": [
        "from torch.utils.data import Dataset, DataLoader\n",
        "import torch\n",
        "\n",
        "# Custom dataset class\n",
        "class CustomDataset(Dataset):\n",
        "    def __init__(self, dataframe, tokenizer, max_length):\n",
        "        self.data = dataframe\n",
        "        self.tokenizer = tokenizer\n",
        "        self.max_length = max_length\n",
        "\n",
        "    def __len__(self):\n",
        "        return len(self.data)\n",
        "\n",
        "    def __getitem__(self, idx):\n",
        "        text = self.data.iloc[idx]['Sentences']\n",
        "        label = self.data.iloc[idx]['Tag']\n",
        "\n",
        "        encoding = self.tokenizer(\n",
        "            text,\n",
        "            truncation=True,\n",
        "            padding='max_length',\n",
        "            max_length=self.max_length,\n",
        "            return_tensors='pt',\n",
        "            return_token_type_ids=False,\n",
        "            return_attention_mask=True,\n",
        "        )\n",
        "\n",
        "        return {\n",
        "            'input_ids': encoding['input_ids'].squeeze(),\n",
        "            'attention_mask': encoding['attention_mask'].squeeze(),\n",
        "            'labels': torch.tensor(label, dtype=torch.long),\n",
        "        }\n",
        "\n",
        "# Define your dataset and dataloader\n",
        "dataset = CustomDataset(dataframe=filtered_df, tokenizer=tokenizer, max_length=128)\n",
        "data_loader = DataLoader(dataset, batch_size=6, shuffle=True)"
      ],
      "metadata": {
        "id": "7pTpjoBtN-8p"
      },
      "execution_count": null,
      "outputs": [],
      "id": "7pTpjoBtN-8p"
    },
    {
      "cell_type": "code",
      "source": [
        "count = 0\n",
        "for batch in data_loader:\n",
        "  print(batch['labels'].view(-1, 1).shape)\n",
        "\n",
        "  count +=1\n",
        "  if count == 1:\n",
        "    break"
      ],
      "metadata": {
        "colab": {
          "base_uri": "https://localhost:8080/"
        },
        "outputId": "f266c44c-125e-4e61-d129-7ea4120b840d",
        "id": "dMxdzv4COKnD"
      },
      "execution_count": null,
      "outputs": [
        {
          "output_type": "stream",
          "name": "stdout",
          "text": [
            "torch.Size([6, 1])\n"
          ]
        }
      ],
      "id": "dMxdzv4COKnD"
    },
    {
      "cell_type": "markdown",
      "source": [
        "### Gradient Clipping\n",
        "\n",
        "* **Gradients** are used to determine how much each parameter should be adjusted to minimize the loss\n",
        "\n",
        "* Updating params in the opposite direction of gradients happens through optimizers. In our case we are using Adam"
      ],
      "metadata": {
        "id": "8lXDaVREGIFu"
      },
      "id": "8lXDaVREGIFu"
    },
    {
      "cell_type": "code",
      "source": [
        "#Gradient Clipping: helps prevent exploding gradients\n",
        "clip_grad_norm_ = torch.nn.utils.clip_grad_norm_(model.parameters(), max_norm=1.0)"
      ],
      "metadata": {
        "id": "_Q9DR8UlGIFu"
      },
      "execution_count": null,
      "outputs": [],
      "id": "_Q9DR8UlGIFu"
    },
    {
      "cell_type": "code",
      "source": [
        "from torch.utils.data import DataLoader\n",
        "\n",
        "batch_size = data_loader.batch_size\n",
        "max_grad_norm = 1.0 # common default value\n",
        "# Create a DataLoader to handle mini-batches\n",
        "for epoch in range(10):\n",
        "    total_loss = 0.0\n",
        "    for batch in data_loader:\n",
        "        optimizer.zero_grad()\n",
        "\n",
        "        # Forward pass for the entire mini-batch\n",
        "        inputs = batch[\"input_ids\"]\n",
        "        attention_mask = batch[\"attention_mask\"]\n",
        "        outputs = model(inputs, attention_mask=attention_mask)\n",
        "\n",
        "        # Calculate the loss for the mini-batch\n",
        "        batch_loss = loss_fn(outputs.logits, batch[\"labels\"])\n",
        "\n",
        "        # Backward pass and optimization\n",
        "        batch_loss.backward()\n",
        "\n",
        "        torch.nn.utils.clip_grad_norm_(model.parameters(), max_norm=max_grad_norm)\n",
        "\n",
        "        optimizer.step()\n",
        "\n",
        "        total_loss += batch_loss.item()\n",
        "\n",
        "    average_loss = total_loss / len(data_loader)\n",
        "    print(f\"Epoch {epoch + 1}, Average loss: {average_loss}\")\n"
      ],
      "metadata": {
        "colab": {
          "base_uri": "https://localhost:8080/"
        },
        "outputId": "b481dc02-1434-4d07-fdaa-f166d4b3a5a4",
        "id": "ihMehL4AOq0h"
      },
      "execution_count": null,
      "outputs": [
        {
          "output_type": "stream",
          "name": "stdout",
          "text": [
            "Epoch 1, Average loss: 1.3492182549976168\n",
            "Epoch 2, Average loss: 1.0698503568058921\n",
            "Epoch 3, Average loss: 0.8132715991565159\n",
            "Epoch 4, Average loss: 0.5765355839615777\n",
            "Epoch 5, Average loss: 0.3841814718076161\n",
            "Epoch 6, Average loss: 0.2596068148102079\n",
            "Epoch 7, Average loss: 0.16125424099820002\n",
            "Epoch 8, Average loss: 0.10215499216601961\n",
            "Epoch 9, Average loss: 0.055042874068021774\n",
            "Epoch 10, Average loss: 0.029323391084160124\n"
          ]
        }
      ],
      "id": "ihMehL4AOq0h"
    },
    {
      "cell_type": "code",
      "source": [
        "# @title MediMapBERT\n",
        "# Define a function to get user input\n",
        "def get_label(doc):\n",
        "    tokens = tokenizer(doc, padding=True, truncation=True, return_tensors=\"pt\")\n",
        "    outputs = model(**tokens)\n",
        "    logits = outputs.logits\n",
        "\n",
        "    probabilities = torch.softmax(logits, dim=1)\n",
        "    predicted_labels = torch.argmax(probabilities, dim=1)\n",
        "    print(probabilities)\n",
        "\n",
        "    return df['Name Tag'].where(df['Tag'] == int(predicted_labels[0])).dropna().unique()\n",
        "\n",
        "# Collect user input\n",
        "Sentence = 'I am angry that he misdiagnosed me' # @param {type:\"string\"}\n",
        "label = get_label(Sentence)\n",
        "\n",
        "# Display the collected information\n",
        "print(f\"[{label[0]}] {Sentence}.\")"
      ],
      "metadata": {
        "colab": {
          "base_uri": "https://localhost:8080/"
        },
        "cellView": "form",
        "outputId": "e63aa9f4-da30-4f36-f9b5-ad98cf70fedf",
        "id": "p2WCr0_GYn1b"
      },
      "execution_count": null,
      "outputs": [
        {
          "output_type": "stream",
          "name": "stdout",
          "text": [
            "tensor([[0.0879, 0.7837, 0.1137, 0.0147]], grad_fn=<SoftmaxBackward0>)\n",
            "[Main] I am angry that he misdiagnosed me.\n"
          ]
        }
      ],
      "id": "p2WCr0_GYn1b"
    },
    {
      "cell_type": "code",
      "source": [
        "model.save_pretrained('./MediMapBERT(balanced)')"
      ],
      "metadata": {
        "id": "61eMhjmwtIyy"
      },
      "id": "61eMhjmwtIyy",
      "execution_count": null,
      "outputs": []
    },
    {
      "cell_type": "markdown",
      "source": [
        "# Grouping Classes\n",
        "* Main, Note & Emotion, None"
      ],
      "metadata": {
        "id": "Ua6cVUvLbkq8"
      },
      "id": "Ua6cVUvLbkq8"
    },
    {
      "cell_type": "code",
      "source": [],
      "metadata": {
        "id": "G-gcajy8bwDz"
      },
      "id": "G-gcajy8bwDz",
      "execution_count": null,
      "outputs": []
    },
    {
      "cell_type": "markdown",
      "source": [
        "# Demo"
      ],
      "metadata": {
        "id": "cUXS68The8DG"
      },
      "id": "cUXS68The8DG"
    },
    {
      "cell_type": "code",
      "source": [
        " dataset = [\n",
        "    {\n",
        "        \"input_ids\": encodings['input_ids'],\n",
        "        \"attention_mask\": encodings['attention_mask'],\n",
        "        \"labels\": labels,\n",
        "    }\n",
        "]"
      ],
      "metadata": {
        "id": "zidbqEjawFSB"
      },
      "id": "zidbqEjawFSB",
      "execution_count": null,
      "outputs": []
    },
    {
      "cell_type": "code",
      "source": [
        "# import torch\n",
        "# from transformers import AutoTokenizer\n",
        "\n",
        "# tokenizer = AutoTokenizer.from_pretrained(\"emilyalsentzer/Bio_ClinicalBERT\")\n",
        "\n",
        "# Create a dataset of sequence labeled documents\n",
        "# This can be done by loading a pre-existing dataset or creating your own\n",
        "\n",
        "input_labels = {\n",
        "    '[Main]': 1,\n",
        "    '[Note]': 2,\n",
        "    '[Emotion]': 1,\n",
        "    '[None]': 4\n",
        "}\n",
        "\n",
        "labeled_tensor = []\n",
        "#labeled_data = \"[Emotion] The stress from my injury and the resulting tinnitus has been taking a toll on my mental health. [Main] Tinnitus began after I underwent blood flow restriction therapy as part of my rehabilitation process. [Note] The stress of the therapy has made it challenging to manage the tinnitus. [Main] I consulted my physical therapist, who recommended stress reduction techniques to alleviate the tinnitus symptoms.\"\n",
        "labeled_data = \"[Emotion] The stress from my injury and the resulting tinnitus has been taking a toll on my mental health.\"\n",
        "for w in labeled_data.split():\n",
        "  try:\n",
        "    if input_labels[w]:\n",
        "      labeled_tensor.append(input_labels[w])\n",
        "  except:\n",
        "    continue\n",
        "print(labeled_tensor)"
      ],
      "metadata": {
        "colab": {
          "base_uri": "https://localhost:8080/"
        },
        "id": "uRiUNSArvTE3",
        "outputId": "baeb0ed8-e384-46fe-cd6d-e02368d35f2f"
      },
      "id": "uRiUNSArvTE3",
      "execution_count": null,
      "outputs": [
        {
          "output_type": "stream",
          "name": "stdout",
          "text": [
            "[1]\n"
          ]
        }
      ]
    },
    {
      "cell_type": "code",
      "source": [
        "import transformers\n",
        "import torch\n",
        "from transformers import AutoTokenizer\n",
        "from torch.nn import CrossEntropyLoss\n",
        "from transformers import BertConfig, BertModel, BertForSequenceClassification, AutoModelForSequenceClassification\n",
        "\n",
        "\n",
        "input_lables = {\n",
        "    '[Main]' : 0,\n",
        "    '[Note]' : 2,\n",
        "    '[Emotion]' : 1,\n",
        "    '[None]' : 4\n",
        "                }\n",
        "\n",
        "doc_labels = []\n",
        "#labeled_data = \"[Emotion] The stress from my injury and the resulting tinnitus has been taking a toll on my mental health. [Main] Tinnitus began after I underwent blood flow restriction therapy as part of my rehabilitation process.\"\n",
        "doc1 = \"[Emotion] The stress from my injury and the resulting tinnitus has been taking a toll on my mental health.\"\n",
        "doc2 = \"[Main] Tinnitus began after I underwent blood flow restriction therapy as part of my rehabilitation process.\"\n",
        "\n",
        "doc_labels.append(input_lables[doc1.split()[0]])\n",
        "doc_labels.append(input_lables[doc2.split()[0]])\n",
        "print(doc_labels)\n",
        "\n",
        "tokenizer = AutoTokenizer.from_pretrained(\"emilyalsentzer/Bio_ClinicalBERT\")\n",
        "encodings = tokenizer([doc1, doc2], padding=True, truncation=True, return_tensors='pt')\n",
        "\n",
        "labels = torch.tensor(doc_labels, dtype=torch.long)\n",
        "\n",
        "\n",
        "dataset = [\n",
        "    {\n",
        "        \"input_ids\": encodings['input_ids'],\n",
        "        \"attention_mask\": encodings['attention_mask'],\n",
        "        \"labels\": labels,\n",
        "    }\n",
        "]\n",
        "\n",
        "\n",
        "\n",
        "# Load the model configuration\n",
        "config = BertConfig.from_pretrained('emilyalsentzer/Bio_ClinicalBERT', output_hidden_states=True)\n",
        "\n",
        "# Load the BERT model with the specified configuration\n",
        "model = AutoModelForSequenceClassification.from_pretrained('emilyalsentzer/Bio_ClinicalBERT', config=config)\n",
        "\n",
        "optimizer = torch.optim.AdamW(model.parameters(), lr=1e-5)\n",
        "loss_fn = torch.nn.CrossEntropyLoss()\n",
        "\n",
        "for epoch in range(20):\n",
        "    for batch in dataset:\n",
        "        optimizer.zero_grad()\n",
        "\n",
        "        # Forward pass\n",
        "        outputs = model(batch[\"input_ids\"], attention_mask=batch[\"attention_mask\"])  # This will include your input_ids, attention_mask, and labels\n",
        "\n",
        "        # Compute the loss\n",
        "        print(outputs.logits.shape, batch['labels'].shape)\n",
        "        loss = loss_fn(outputs.logits, batch[\"labels\"])\n",
        "\n",
        "        # Backward pass\n",
        "        loss.backward()\n",
        "        optimizer.step()\n",
        "        print(f\"Epoch {epoch + 1}, Batch loss: {loss.item()}\")\n",
        "\n",
        "#labels = torch.tensor(labeled_tensor)\n",
        "\n",
        "# Create a dataset\n",
        "# dataset = [\n",
        "#     {\n",
        "#         \"input_ids\": torch.tensor(encodings),\n",
        "#         \"attention_mask\": torch.ones_like(torch.tensor(encodings)),\n",
        "#         \"labels\": labels,\n",
        "#     }\n",
        "# ]\n",
        "\n",
        "# # Load the model configuration\n",
        "# config = BertConfig.from_pretrained('emilyalsentzer/Bio_ClinicalBERT', output_hidden_states=True)\n",
        "\n",
        "# # Load the BERT model with the specified configuration\n",
        "# model = AutoModelForSequenceClassification.from_pretrained('emilyalsentzer/Bio_ClinicalBERT', config=config)\n",
        "\n",
        "\n",
        "# # Define the optimizer and loss function\n",
        "# optimizer = transformers.AdamW(model.parameters(), lr=5e-5)\n",
        "# loss_fn = CrossEntropyLoss()\n",
        "\n",
        "\n",
        "# # Train the model\n",
        "# for epoch in range(10):\n",
        "#     for batch in dataset:\n",
        "#         optimizer.zero_grad()\n",
        "#         # Forward pass\n",
        "#         #outputs = model(batch[\"input_ids\"].unsqueeze(0), attention_mask=batch[\"attention_mask\"].unsqueeze(0))\n",
        "#         # Forward pass\n",
        "#         for batch in dataset:\n",
        "#           # Forward pass\n",
        "#           outputs = model(batch[\"input_ids\"], attention_mask=batch[\"attention_mask\"])\n",
        "\n",
        "#           print(outputs.logits.shape)\n",
        "#           print(labels.shape)\n",
        "#           # Compute the loss\n",
        "#           loss = loss_fn(outputs.logits, labels)\n",
        "\n",
        "#           # Backward pass\n",
        "#           loss.backward()\n",
        "#           optimizer.step()\n",
        "#           # Optionally, you can print the loss or other metrics for monitoring training progress\n",
        "#           print(f\"Epoch {epoch + 1}, Batch loss: {loss.item()}\")\n",
        "        # outputs = model(**tokens, labels=labels)\n",
        "\n",
        "        # # Compute the loss\n",
        "        # print(outputs.logits)\n",
        "        # print(batch[\"labels\"])\n",
        "        # loss = loss_fn(outputs.logits, labels)\n",
        "\n",
        "        # # Backward pass\n",
        "        # loss.backward()\n",
        "        # optimizer.step()"
      ],
      "metadata": {
        "colab": {
          "base_uri": "https://localhost:8080/"
        },
        "id": "vfYTFPJz1hYM",
        "outputId": "b380e1a6-13c0-46d5-f8f0-636c4c431529"
      },
      "id": "vfYTFPJz1hYM",
      "execution_count": null,
      "outputs": [
        {
          "output_type": "stream",
          "name": "stdout",
          "text": [
            "[1, 0]\n"
          ]
        },
        {
          "output_type": "stream",
          "name": "stderr",
          "text": [
            "Asking to truncate to max_length but no maximum length is provided and the model has no predefined maximum length. Default to no truncation.\n",
            "Some weights of BertForSequenceClassification were not initialized from the model checkpoint at emilyalsentzer/Bio_ClinicalBERT and are newly initialized: ['classifier.weight', 'classifier.bias']\n",
            "You should probably TRAIN this model on a down-stream task to be able to use it for predictions and inference.\n"
          ]
        },
        {
          "output_type": "stream",
          "name": "stdout",
          "text": [
            "torch.Size([2, 2]) torch.Size([2])\n",
            "Epoch 1, Batch loss: 0.7009099721908569\n",
            "torch.Size([2, 2]) torch.Size([2])\n",
            "Epoch 2, Batch loss: 0.6680600643157959\n",
            "torch.Size([2, 2]) torch.Size([2])\n",
            "Epoch 3, Batch loss: 0.6274715065956116\n",
            "torch.Size([2, 2]) torch.Size([2])\n",
            "Epoch 4, Batch loss: 0.5854136943817139\n",
            "torch.Size([2, 2]) torch.Size([2])\n",
            "Epoch 5, Batch loss: 0.5488966107368469\n",
            "torch.Size([2, 2]) torch.Size([2])\n",
            "Epoch 6, Batch loss: 0.5097163915634155\n",
            "torch.Size([2, 2]) torch.Size([2])\n",
            "Epoch 7, Batch loss: 0.4710468053817749\n",
            "torch.Size([2, 2]) torch.Size([2])\n",
            "Epoch 8, Batch loss: 0.4363340139389038\n",
            "torch.Size([2, 2]) torch.Size([2])\n",
            "Epoch 9, Batch loss: 0.39671972393989563\n",
            "torch.Size([2, 2]) torch.Size([2])\n",
            "Epoch 10, Batch loss: 0.3602393865585327\n",
            "torch.Size([2, 2]) torch.Size([2])\n",
            "Epoch 11, Batch loss: 0.3231777548789978\n",
            "torch.Size([2, 2]) torch.Size([2])\n",
            "Epoch 12, Batch loss: 0.2865065336227417\n",
            "torch.Size([2, 2]) torch.Size([2])\n",
            "Epoch 13, Batch loss: 0.2549435496330261\n",
            "torch.Size([2, 2]) torch.Size([2])\n",
            "Epoch 14, Batch loss: 0.22268050909042358\n",
            "torch.Size([2, 2]) torch.Size([2])\n",
            "Epoch 15, Batch loss: 0.19567477703094482\n",
            "torch.Size([2, 2]) torch.Size([2])\n",
            "Epoch 16, Batch loss: 0.16702322661876678\n",
            "torch.Size([2, 2]) torch.Size([2])\n",
            "Epoch 17, Batch loss: 0.14765556156635284\n",
            "torch.Size([2, 2]) torch.Size([2])\n",
            "Epoch 18, Batch loss: 0.1292283535003662\n",
            "torch.Size([2, 2]) torch.Size([2])\n",
            "Epoch 19, Batch loss: 0.11614479124546051\n",
            "torch.Size([2, 2]) torch.Size([2])\n",
            "Epoch 20, Batch loss: 0.10207585990428925\n"
          ]
        }
      ]
    },
    {
      "cell_type": "code",
      "source": [
        "#new_document = \"The stress from breaking my nose leading to my tinnitus has been affecting my mental health.\"\n",
        "new_document = \"I first got tinnitus when I was 12.\"\n",
        "tokens = tokenizer(new_document, padding=True, truncation=True, return_tensors=\"pt\")\n",
        "\n",
        "#model = BertForSequenceClassification.from_pretrained('bert-base-uncased')\n",
        "outputs = model(**tokens)\n",
        "logits = outputs.logits\n",
        "\n",
        "probabilities = torch.softmax(logits, dim=1)\n",
        "predicted_labels = torch.argmax(probabilities, dim=1)\n",
        "\n",
        "\n",
        "# Print the generated labels\n",
        "print(predicted_labels)\n"
      ],
      "metadata": {
        "colab": {
          "base_uri": "https://localhost:8080/"
        },
        "id": "ycDaOILBydp1",
        "outputId": "4b320991-70fa-4d06-f79f-15e0e590cf54"
      },
      "id": "ycDaOILBydp1",
      "execution_count": null,
      "outputs": [
        {
          "output_type": "stream",
          "name": "stdout",
          "text": [
            "tensor([0])\n"
          ]
        }
      ]
    },
    {
      "cell_type": "code",
      "execution_count": null,
      "id": "ce5cefdb",
      "metadata": {
        "id": "ce5cefdb"
      },
      "outputs": [],
      "source": []
    }
  ],
  "metadata": {
    "kernelspec": {
      "display_name": "Python 3",
      "name": "python3"
    },
    "language_info": {
      "codemirror_mode": {
        "name": "ipython",
        "version": 3
      },
      "file_extension": ".py",
      "mimetype": "text/x-python",
      "name": "python",
      "nbconvert_exporter": "python",
      "pygments_lexer": "ipython3",
      "version": "3.10.9"
    },
    "colab": {
      "provenance": []
    },
    "accelerator": "TPU",
    "widgets": {
      "application/vnd.jupyter.widget-state+json": {
        "cafe158e56964dd1ab8f53517242cf2f": {
          "model_module": "@jupyter-widgets/controls",
          "model_name": "HBoxModel",
          "model_module_version": "1.5.0",
          "state": {
            "_dom_classes": [],
            "_model_module": "@jupyter-widgets/controls",
            "_model_module_version": "1.5.0",
            "_model_name": "HBoxModel",
            "_view_count": null,
            "_view_module": "@jupyter-widgets/controls",
            "_view_module_version": "1.5.0",
            "_view_name": "HBoxView",
            "box_style": "",
            "children": [
              "IPY_MODEL_e22cc67c52d94a35aad89d55dfd6d842",
              "IPY_MODEL_b4302d23c39441e4b091cf8d7e675964",
              "IPY_MODEL_395464d8be124887bdf284a834721349"
            ],
            "layout": "IPY_MODEL_4f0c41d359be474eba075f922f712e49"
          }
        },
        "e22cc67c52d94a35aad89d55dfd6d842": {
          "model_module": "@jupyter-widgets/controls",
          "model_name": "HTMLModel",
          "model_module_version": "1.5.0",
          "state": {
            "_dom_classes": [],
            "_model_module": "@jupyter-widgets/controls",
            "_model_module_version": "1.5.0",
            "_model_name": "HTMLModel",
            "_view_count": null,
            "_view_module": "@jupyter-widgets/controls",
            "_view_module_version": "1.5.0",
            "_view_name": "HTMLView",
            "description": "",
            "description_tooltip": null,
            "layout": "IPY_MODEL_6b515aa2fa4647ed919efa6aa5fb6b7a",
            "placeholder": "​",
            "style": "IPY_MODEL_0a208b6eecdf447eb119104e7b00fcf4",
            "value": "Downloading (…)lve/main/config.json: 100%"
          }
        },
        "b4302d23c39441e4b091cf8d7e675964": {
          "model_module": "@jupyter-widgets/controls",
          "model_name": "FloatProgressModel",
          "model_module_version": "1.5.0",
          "state": {
            "_dom_classes": [],
            "_model_module": "@jupyter-widgets/controls",
            "_model_module_version": "1.5.0",
            "_model_name": "FloatProgressModel",
            "_view_count": null,
            "_view_module": "@jupyter-widgets/controls",
            "_view_module_version": "1.5.0",
            "_view_name": "ProgressView",
            "bar_style": "success",
            "description": "",
            "description_tooltip": null,
            "layout": "IPY_MODEL_cbfd5f5aaca34cb2aa8d3c12742db77b",
            "max": 385,
            "min": 0,
            "orientation": "horizontal",
            "style": "IPY_MODEL_c4ed6ce500a74f1aaa58554dc0d38613",
            "value": 385
          }
        },
        "395464d8be124887bdf284a834721349": {
          "model_module": "@jupyter-widgets/controls",
          "model_name": "HTMLModel",
          "model_module_version": "1.5.0",
          "state": {
            "_dom_classes": [],
            "_model_module": "@jupyter-widgets/controls",
            "_model_module_version": "1.5.0",
            "_model_name": "HTMLModel",
            "_view_count": null,
            "_view_module": "@jupyter-widgets/controls",
            "_view_module_version": "1.5.0",
            "_view_name": "HTMLView",
            "description": "",
            "description_tooltip": null,
            "layout": "IPY_MODEL_aa69e081adb643daaa518806d6932b79",
            "placeholder": "​",
            "style": "IPY_MODEL_a68abfafa90f487d9b9bc43d6cfa8225",
            "value": " 385/385 [00:00&lt;00:00, 16.1kB/s]"
          }
        },
        "4f0c41d359be474eba075f922f712e49": {
          "model_module": "@jupyter-widgets/base",
          "model_name": "LayoutModel",
          "model_module_version": "1.2.0",
          "state": {
            "_model_module": "@jupyter-widgets/base",
            "_model_module_version": "1.2.0",
            "_model_name": "LayoutModel",
            "_view_count": null,
            "_view_module": "@jupyter-widgets/base",
            "_view_module_version": "1.2.0",
            "_view_name": "LayoutView",
            "align_content": null,
            "align_items": null,
            "align_self": null,
            "border": null,
            "bottom": null,
            "display": null,
            "flex": null,
            "flex_flow": null,
            "grid_area": null,
            "grid_auto_columns": null,
            "grid_auto_flow": null,
            "grid_auto_rows": null,
            "grid_column": null,
            "grid_gap": null,
            "grid_row": null,
            "grid_template_areas": null,
            "grid_template_columns": null,
            "grid_template_rows": null,
            "height": null,
            "justify_content": null,
            "justify_items": null,
            "left": null,
            "margin": null,
            "max_height": null,
            "max_width": null,
            "min_height": null,
            "min_width": null,
            "object_fit": null,
            "object_position": null,
            "order": null,
            "overflow": null,
            "overflow_x": null,
            "overflow_y": null,
            "padding": null,
            "right": null,
            "top": null,
            "visibility": null,
            "width": null
          }
        },
        "6b515aa2fa4647ed919efa6aa5fb6b7a": {
          "model_module": "@jupyter-widgets/base",
          "model_name": "LayoutModel",
          "model_module_version": "1.2.0",
          "state": {
            "_model_module": "@jupyter-widgets/base",
            "_model_module_version": "1.2.0",
            "_model_name": "LayoutModel",
            "_view_count": null,
            "_view_module": "@jupyter-widgets/base",
            "_view_module_version": "1.2.0",
            "_view_name": "LayoutView",
            "align_content": null,
            "align_items": null,
            "align_self": null,
            "border": null,
            "bottom": null,
            "display": null,
            "flex": null,
            "flex_flow": null,
            "grid_area": null,
            "grid_auto_columns": null,
            "grid_auto_flow": null,
            "grid_auto_rows": null,
            "grid_column": null,
            "grid_gap": null,
            "grid_row": null,
            "grid_template_areas": null,
            "grid_template_columns": null,
            "grid_template_rows": null,
            "height": null,
            "justify_content": null,
            "justify_items": null,
            "left": null,
            "margin": null,
            "max_height": null,
            "max_width": null,
            "min_height": null,
            "min_width": null,
            "object_fit": null,
            "object_position": null,
            "order": null,
            "overflow": null,
            "overflow_x": null,
            "overflow_y": null,
            "padding": null,
            "right": null,
            "top": null,
            "visibility": null,
            "width": null
          }
        },
        "0a208b6eecdf447eb119104e7b00fcf4": {
          "model_module": "@jupyter-widgets/controls",
          "model_name": "DescriptionStyleModel",
          "model_module_version": "1.5.0",
          "state": {
            "_model_module": "@jupyter-widgets/controls",
            "_model_module_version": "1.5.0",
            "_model_name": "DescriptionStyleModel",
            "_view_count": null,
            "_view_module": "@jupyter-widgets/base",
            "_view_module_version": "1.2.0",
            "_view_name": "StyleView",
            "description_width": ""
          }
        },
        "cbfd5f5aaca34cb2aa8d3c12742db77b": {
          "model_module": "@jupyter-widgets/base",
          "model_name": "LayoutModel",
          "model_module_version": "1.2.0",
          "state": {
            "_model_module": "@jupyter-widgets/base",
            "_model_module_version": "1.2.0",
            "_model_name": "LayoutModel",
            "_view_count": null,
            "_view_module": "@jupyter-widgets/base",
            "_view_module_version": "1.2.0",
            "_view_name": "LayoutView",
            "align_content": null,
            "align_items": null,
            "align_self": null,
            "border": null,
            "bottom": null,
            "display": null,
            "flex": null,
            "flex_flow": null,
            "grid_area": null,
            "grid_auto_columns": null,
            "grid_auto_flow": null,
            "grid_auto_rows": null,
            "grid_column": null,
            "grid_gap": null,
            "grid_row": null,
            "grid_template_areas": null,
            "grid_template_columns": null,
            "grid_template_rows": null,
            "height": null,
            "justify_content": null,
            "justify_items": null,
            "left": null,
            "margin": null,
            "max_height": null,
            "max_width": null,
            "min_height": null,
            "min_width": null,
            "object_fit": null,
            "object_position": null,
            "order": null,
            "overflow": null,
            "overflow_x": null,
            "overflow_y": null,
            "padding": null,
            "right": null,
            "top": null,
            "visibility": null,
            "width": null
          }
        },
        "c4ed6ce500a74f1aaa58554dc0d38613": {
          "model_module": "@jupyter-widgets/controls",
          "model_name": "ProgressStyleModel",
          "model_module_version": "1.5.0",
          "state": {
            "_model_module": "@jupyter-widgets/controls",
            "_model_module_version": "1.5.0",
            "_model_name": "ProgressStyleModel",
            "_view_count": null,
            "_view_module": "@jupyter-widgets/base",
            "_view_module_version": "1.2.0",
            "_view_name": "StyleView",
            "bar_color": null,
            "description_width": ""
          }
        },
        "aa69e081adb643daaa518806d6932b79": {
          "model_module": "@jupyter-widgets/base",
          "model_name": "LayoutModel",
          "model_module_version": "1.2.0",
          "state": {
            "_model_module": "@jupyter-widgets/base",
            "_model_module_version": "1.2.0",
            "_model_name": "LayoutModel",
            "_view_count": null,
            "_view_module": "@jupyter-widgets/base",
            "_view_module_version": "1.2.0",
            "_view_name": "LayoutView",
            "align_content": null,
            "align_items": null,
            "align_self": null,
            "border": null,
            "bottom": null,
            "display": null,
            "flex": null,
            "flex_flow": null,
            "grid_area": null,
            "grid_auto_columns": null,
            "grid_auto_flow": null,
            "grid_auto_rows": null,
            "grid_column": null,
            "grid_gap": null,
            "grid_row": null,
            "grid_template_areas": null,
            "grid_template_columns": null,
            "grid_template_rows": null,
            "height": null,
            "justify_content": null,
            "justify_items": null,
            "left": null,
            "margin": null,
            "max_height": null,
            "max_width": null,
            "min_height": null,
            "min_width": null,
            "object_fit": null,
            "object_position": null,
            "order": null,
            "overflow": null,
            "overflow_x": null,
            "overflow_y": null,
            "padding": null,
            "right": null,
            "top": null,
            "visibility": null,
            "width": null
          }
        },
        "a68abfafa90f487d9b9bc43d6cfa8225": {
          "model_module": "@jupyter-widgets/controls",
          "model_name": "DescriptionStyleModel",
          "model_module_version": "1.5.0",
          "state": {
            "_model_module": "@jupyter-widgets/controls",
            "_model_module_version": "1.5.0",
            "_model_name": "DescriptionStyleModel",
            "_view_count": null,
            "_view_module": "@jupyter-widgets/base",
            "_view_module_version": "1.2.0",
            "_view_name": "StyleView",
            "description_width": ""
          }
        },
        "09f2c8d4cb8a44279edc71f140e53366": {
          "model_module": "@jupyter-widgets/controls",
          "model_name": "HBoxModel",
          "model_module_version": "1.5.0",
          "state": {
            "_dom_classes": [],
            "_model_module": "@jupyter-widgets/controls",
            "_model_module_version": "1.5.0",
            "_model_name": "HBoxModel",
            "_view_count": null,
            "_view_module": "@jupyter-widgets/controls",
            "_view_module_version": "1.5.0",
            "_view_name": "HBoxView",
            "box_style": "",
            "children": [
              "IPY_MODEL_36534f4b8d254ddc80b005e7ae139e77",
              "IPY_MODEL_5fa8a1d26d5c48a1bafc3bd4d954a420",
              "IPY_MODEL_3857ca88a504400ea7b9c8cf26aa2d47"
            ],
            "layout": "IPY_MODEL_fa9c7905017c4de09b92ca35ac76ff92"
          }
        },
        "36534f4b8d254ddc80b005e7ae139e77": {
          "model_module": "@jupyter-widgets/controls",
          "model_name": "HTMLModel",
          "model_module_version": "1.5.0",
          "state": {
            "_dom_classes": [],
            "_model_module": "@jupyter-widgets/controls",
            "_model_module_version": "1.5.0",
            "_model_name": "HTMLModel",
            "_view_count": null,
            "_view_module": "@jupyter-widgets/controls",
            "_view_module_version": "1.5.0",
            "_view_name": "HTMLView",
            "description": "",
            "description_tooltip": null,
            "layout": "IPY_MODEL_b362020b1e4d4017a73a19471243fa11",
            "placeholder": "​",
            "style": "IPY_MODEL_3bf0a994716246cda96afc13ffad4dc2",
            "value": "Downloading (…)solve/main/vocab.txt: 100%"
          }
        },
        "5fa8a1d26d5c48a1bafc3bd4d954a420": {
          "model_module": "@jupyter-widgets/controls",
          "model_name": "FloatProgressModel",
          "model_module_version": "1.5.0",
          "state": {
            "_dom_classes": [],
            "_model_module": "@jupyter-widgets/controls",
            "_model_module_version": "1.5.0",
            "_model_name": "FloatProgressModel",
            "_view_count": null,
            "_view_module": "@jupyter-widgets/controls",
            "_view_module_version": "1.5.0",
            "_view_name": "ProgressView",
            "bar_style": "success",
            "description": "",
            "description_tooltip": null,
            "layout": "IPY_MODEL_37801a74b72e40d49b6936050754022b",
            "max": 213450,
            "min": 0,
            "orientation": "horizontal",
            "style": "IPY_MODEL_e87f398b288f4a9ebe9806cd71c04f8f",
            "value": 213450
          }
        },
        "3857ca88a504400ea7b9c8cf26aa2d47": {
          "model_module": "@jupyter-widgets/controls",
          "model_name": "HTMLModel",
          "model_module_version": "1.5.0",
          "state": {
            "_dom_classes": [],
            "_model_module": "@jupyter-widgets/controls",
            "_model_module_version": "1.5.0",
            "_model_name": "HTMLModel",
            "_view_count": null,
            "_view_module": "@jupyter-widgets/controls",
            "_view_module_version": "1.5.0",
            "_view_name": "HTMLView",
            "description": "",
            "description_tooltip": null,
            "layout": "IPY_MODEL_5a5978c4d3cd43ffb4df5c7005adaf30",
            "placeholder": "​",
            "style": "IPY_MODEL_80e816c25f8d47a5b329413213d78bd9",
            "value": " 213k/213k [00:00&lt;00:00, 3.06MB/s]"
          }
        },
        "fa9c7905017c4de09b92ca35ac76ff92": {
          "model_module": "@jupyter-widgets/base",
          "model_name": "LayoutModel",
          "model_module_version": "1.2.0",
          "state": {
            "_model_module": "@jupyter-widgets/base",
            "_model_module_version": "1.2.0",
            "_model_name": "LayoutModel",
            "_view_count": null,
            "_view_module": "@jupyter-widgets/base",
            "_view_module_version": "1.2.0",
            "_view_name": "LayoutView",
            "align_content": null,
            "align_items": null,
            "align_self": null,
            "border": null,
            "bottom": null,
            "display": null,
            "flex": null,
            "flex_flow": null,
            "grid_area": null,
            "grid_auto_columns": null,
            "grid_auto_flow": null,
            "grid_auto_rows": null,
            "grid_column": null,
            "grid_gap": null,
            "grid_row": null,
            "grid_template_areas": null,
            "grid_template_columns": null,
            "grid_template_rows": null,
            "height": null,
            "justify_content": null,
            "justify_items": null,
            "left": null,
            "margin": null,
            "max_height": null,
            "max_width": null,
            "min_height": null,
            "min_width": null,
            "object_fit": null,
            "object_position": null,
            "order": null,
            "overflow": null,
            "overflow_x": null,
            "overflow_y": null,
            "padding": null,
            "right": null,
            "top": null,
            "visibility": null,
            "width": null
          }
        },
        "b362020b1e4d4017a73a19471243fa11": {
          "model_module": "@jupyter-widgets/base",
          "model_name": "LayoutModel",
          "model_module_version": "1.2.0",
          "state": {
            "_model_module": "@jupyter-widgets/base",
            "_model_module_version": "1.2.0",
            "_model_name": "LayoutModel",
            "_view_count": null,
            "_view_module": "@jupyter-widgets/base",
            "_view_module_version": "1.2.0",
            "_view_name": "LayoutView",
            "align_content": null,
            "align_items": null,
            "align_self": null,
            "border": null,
            "bottom": null,
            "display": null,
            "flex": null,
            "flex_flow": null,
            "grid_area": null,
            "grid_auto_columns": null,
            "grid_auto_flow": null,
            "grid_auto_rows": null,
            "grid_column": null,
            "grid_gap": null,
            "grid_row": null,
            "grid_template_areas": null,
            "grid_template_columns": null,
            "grid_template_rows": null,
            "height": null,
            "justify_content": null,
            "justify_items": null,
            "left": null,
            "margin": null,
            "max_height": null,
            "max_width": null,
            "min_height": null,
            "min_width": null,
            "object_fit": null,
            "object_position": null,
            "order": null,
            "overflow": null,
            "overflow_x": null,
            "overflow_y": null,
            "padding": null,
            "right": null,
            "top": null,
            "visibility": null,
            "width": null
          }
        },
        "3bf0a994716246cda96afc13ffad4dc2": {
          "model_module": "@jupyter-widgets/controls",
          "model_name": "DescriptionStyleModel",
          "model_module_version": "1.5.0",
          "state": {
            "_model_module": "@jupyter-widgets/controls",
            "_model_module_version": "1.5.0",
            "_model_name": "DescriptionStyleModel",
            "_view_count": null,
            "_view_module": "@jupyter-widgets/base",
            "_view_module_version": "1.2.0",
            "_view_name": "StyleView",
            "description_width": ""
          }
        },
        "37801a74b72e40d49b6936050754022b": {
          "model_module": "@jupyter-widgets/base",
          "model_name": "LayoutModel",
          "model_module_version": "1.2.0",
          "state": {
            "_model_module": "@jupyter-widgets/base",
            "_model_module_version": "1.2.0",
            "_model_name": "LayoutModel",
            "_view_count": null,
            "_view_module": "@jupyter-widgets/base",
            "_view_module_version": "1.2.0",
            "_view_name": "LayoutView",
            "align_content": null,
            "align_items": null,
            "align_self": null,
            "border": null,
            "bottom": null,
            "display": null,
            "flex": null,
            "flex_flow": null,
            "grid_area": null,
            "grid_auto_columns": null,
            "grid_auto_flow": null,
            "grid_auto_rows": null,
            "grid_column": null,
            "grid_gap": null,
            "grid_row": null,
            "grid_template_areas": null,
            "grid_template_columns": null,
            "grid_template_rows": null,
            "height": null,
            "justify_content": null,
            "justify_items": null,
            "left": null,
            "margin": null,
            "max_height": null,
            "max_width": null,
            "min_height": null,
            "min_width": null,
            "object_fit": null,
            "object_position": null,
            "order": null,
            "overflow": null,
            "overflow_x": null,
            "overflow_y": null,
            "padding": null,
            "right": null,
            "top": null,
            "visibility": null,
            "width": null
          }
        },
        "e87f398b288f4a9ebe9806cd71c04f8f": {
          "model_module": "@jupyter-widgets/controls",
          "model_name": "ProgressStyleModel",
          "model_module_version": "1.5.0",
          "state": {
            "_model_module": "@jupyter-widgets/controls",
            "_model_module_version": "1.5.0",
            "_model_name": "ProgressStyleModel",
            "_view_count": null,
            "_view_module": "@jupyter-widgets/base",
            "_view_module_version": "1.2.0",
            "_view_name": "StyleView",
            "bar_color": null,
            "description_width": ""
          }
        },
        "5a5978c4d3cd43ffb4df5c7005adaf30": {
          "model_module": "@jupyter-widgets/base",
          "model_name": "LayoutModel",
          "model_module_version": "1.2.0",
          "state": {
            "_model_module": "@jupyter-widgets/base",
            "_model_module_version": "1.2.0",
            "_model_name": "LayoutModel",
            "_view_count": null,
            "_view_module": "@jupyter-widgets/base",
            "_view_module_version": "1.2.0",
            "_view_name": "LayoutView",
            "align_content": null,
            "align_items": null,
            "align_self": null,
            "border": null,
            "bottom": null,
            "display": null,
            "flex": null,
            "flex_flow": null,
            "grid_area": null,
            "grid_auto_columns": null,
            "grid_auto_flow": null,
            "grid_auto_rows": null,
            "grid_column": null,
            "grid_gap": null,
            "grid_row": null,
            "grid_template_areas": null,
            "grid_template_columns": null,
            "grid_template_rows": null,
            "height": null,
            "justify_content": null,
            "justify_items": null,
            "left": null,
            "margin": null,
            "max_height": null,
            "max_width": null,
            "min_height": null,
            "min_width": null,
            "object_fit": null,
            "object_position": null,
            "order": null,
            "overflow": null,
            "overflow_x": null,
            "overflow_y": null,
            "padding": null,
            "right": null,
            "top": null,
            "visibility": null,
            "width": null
          }
        },
        "80e816c25f8d47a5b329413213d78bd9": {
          "model_module": "@jupyter-widgets/controls",
          "model_name": "DescriptionStyleModel",
          "model_module_version": "1.5.0",
          "state": {
            "_model_module": "@jupyter-widgets/controls",
            "_model_module_version": "1.5.0",
            "_model_name": "DescriptionStyleModel",
            "_view_count": null,
            "_view_module": "@jupyter-widgets/base",
            "_view_module_version": "1.2.0",
            "_view_name": "StyleView",
            "description_width": ""
          }
        }
      }
    }
  },
  "nbformat": 4,
  "nbformat_minor": 5
}